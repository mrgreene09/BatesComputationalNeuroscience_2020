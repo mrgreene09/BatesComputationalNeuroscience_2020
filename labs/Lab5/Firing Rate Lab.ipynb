{
 "cells": [
  {
   "cell_type": "markdown",
   "metadata": {},
   "source": [
    "## <span style=\"color:black\">Firing Rate and Spike Train Statistics</span>\n",
    "\n",
    "As you recall form the [Gerstner reading](https://neuronaldynamics.epfl.ch/online/Ch7.html), there are several ways to think about a neuron's firing rate. In the first part of this lab, we will calculate the Fano Factor as well as the Interspike Interval of the neuron.\n",
    "\n",
    "Note: Because we will be using data from a single neuron, we will omit the population method.\n",
    "\n",
    "<img src=\"image1.png\" alt=\"drawing\" width=\"400\"/>\n",
    "\n",
    "The data we will be using was collected from de Ruyter van Stevenick from a blow fly (Calliphora erytrocephela) H1 visual neuron responding to a white noise visual motion stimulus. They recorded the neuron at 500 Hz (in other words, each sample represents 2 ms). Within the file, $rho$ is a boolean vector where 1 denotes a spike and $stim$ is a variable indicating the intensity of the visual stimulus (in this case, the angular velocity of the random moving dots). We will only be using the rho vector today, but we will return to this data set next week.\n",
    "\n",
    "Run the cell below to load in the data."
   ]
  },
  {
   "cell_type": "code",
   "execution_count": null,
   "metadata": {},
   "outputs": [],
   "source": [
    "# Importing packages to load data\n",
    "import csv\n",
    "import numpy as np\n",
    "\n",
    "# Loading data\n",
    "with open('rho.csv') as f:\n",
    "    # storing data to a variable called rho\n",
    "    rho = list(csv.reader(f))\n",
    "\n",
    "# Converting the file to an array of floats\n",
    "rho = np.array(rho[:], dtype=np.float)"
   ]
  },
  {
   "cell_type": "markdown",
   "metadata": {},
   "source": [
    "The most straightforward method for computing a neuron's firing rate is the **spike count rate**. Here, we simply count the number of spikes and divide by the interval of time:\n",
    "\n",
    "$$r = \\frac{n_{spikes}}{time}$$\n",
    "\n",
    "Compute the spike count rate in spikes per second (Hz) for the entire duration of the recording."
   ]
  },
  {
   "cell_type": "code",
   "execution_count": null,
   "metadata": {},
   "outputs": [],
   "source": [
    "# your code here"
   ]
  },
  {
   "cell_type": "markdown",
   "metadata": {},
   "source": [
    "Is this a reasonable characterization of the neuron? Create a vector to represent time (remember that the recording was done at 500 Hz), and plot rho versus time. Label your plot appropriately. In the cell below your code, discuss one limitation of characterizing the firing rate in this way."
   ]
  },
  {
   "cell_type": "code",
   "execution_count": null,
   "metadata": {},
   "outputs": [],
   "source": [
    "# your code here"
   ]
  },
  {
   "cell_type": "code",
   "execution_count": null,
   "metadata": {},
   "outputs": [],
   "source": [
    "# answer"
   ]
  },
  {
   "cell_type": "markdown",
   "metadata": {},
   "source": [
    "Another way to characterize the neuron's firing pattern is to examine the distribution of interspike intervals (ISI). Unlike the Hodgkin and Huxley model that fired spikes at a constant pace, real neurons have some variability. Calculate the ISI distribution for this dataset, and use the code below to plot the histogram of ISIs. Hint: [**np.where()**](https://numpy.org/doc/stable/reference/generated/numpy.where.html) will be helpful to get these indices. Pro-tip: the array that is returned will be a tuple and you are interested only in its first element."
   ]
  },
  {
   "cell_type": "code",
   "execution_count": null,
   "metadata": {},
   "outputs": [],
   "source": [
    "import matplotlib.pyplot as plt\n",
    "\n",
    "# your code here\n",
    "\n",
    "# plot thisInterval in a histogram\n",
    "plt.figure()\n",
    "plt.hist(isi,100);\n",
    "plt.xlabel(\"ISI\")\n",
    "plt.ylabel(\"Frequency\")"
   ]
  },
  {
   "cell_type": "markdown",
   "metadata": {},
   "source": [
    "## Homogeneous Poisson Process\n",
    "\n",
    "Now, let's compare this actual neuron's firing pattern with a homogeneous Poisson pattern. As you read, this model assumes that the overall firing rate stays the same, but that the locations of the specific spikes are random.\n",
    "\n",
    "Create a Poisson spike generator that simulates a neuron that spikes at a constant rate of $45 Hz$. Your simulator should sample at $1000 Hz$. Run your simulator for 2000 runs of 1 second each, and record the spikes in a single matrix. Compute the following:\n",
    "- A histogram of spike count rate\n",
    "- A histogram of interspike intervals\n",
    "- Fano factor for spike counts obtained over the 2000 runs.\n",
    "\n",
    "The code template below will get you started."
   ]
  },
  {
   "cell_type": "code",
   "execution_count": null,
   "metadata": {},
   "outputs": [],
   "source": [
    "# Define probability of a spike occuring\n",
    "prob = \n",
    "\n",
    "# Initiate data structure to hold the spikes\n",
    "spikeMatrix = np.zeros()\n",
    "\n",
    "# Create a nested loop to simulate 2000 trials (i) of 1000 samples (j): \n",
    "for i in range():\n",
    "    for j in range():\n",
    "        # Conditional to assign a spike to spikeMatrix\n",
    "        if np.random.rand() < :\n",
    "            # Store a 1 in spikeMatrix\n",
    "            \n",
    "# Calculate number of spikes (hint: we are summing across trials)\n",
    "spikeCountRates = \n",
    "\n",
    "# Set up data stuctures: (hint: find total number of spikes first)\n",
    "totalSpikes = int(np.sum(spikeMatrix, axis=None))\n",
    "isi = np.zeros()\n",
    "\n",
    "\n",
    "# initialize spike counter\n",
    "counter = -1\n",
    "\n",
    "# Create a loop through trials that finds the spikes in spikeMatrix\n",
    "for i in range():\n",
    "    # Find indices of spikes\n",
    "    \n",
    "    \n",
    "    for j in range(len(spikes)-1):\n",
    "        # Increment counter\n",
    "        # Calculate ISI and store in vector\n",
    "\n",
    "# Plotting\n",
    "plt.figure(figsize = (8,8))\n",
    "plt.subplot(2,1,1)\n",
    "plt.hist(spikeCountRates,40,edgecolor='black');\n",
    "plt.xlabel(\"Average firing rate (Hz)\")\n",
    "plt.ylabel(\"Frequency\")\n",
    "plt.subplot(2,1,2)\n",
    "plt.hist(isi,100);\n",
    "plt.xlabel(\"ISI (ms)\")\n",
    "plt.ylabel(\"Frequency\")\n",
    "\n",
    "# Calculate Fano factor\n",
    "Fano = \n",
    "print(Fano)"
   ]
  },
  {
   "cell_type": "markdown",
   "metadata": {},
   "source": [
    "Great work today! Please submit this on Lyceum for grading."
   ]
  }
 ],
 "metadata": {
  "kernelspec": {
   "display_name": "Python 3",
   "language": "python",
   "name": "python3"
  },
  "language_info": {
   "codemirror_mode": {
    "name": "ipython",
    "version": 3
   },
   "file_extension": ".py",
   "mimetype": "text/x-python",
   "name": "python",
   "nbconvert_exporter": "python",
   "pygments_lexer": "ipython3",
   "version": "3.7.7"
  }
 },
 "nbformat": 4,
 "nbformat_minor": 4
}
