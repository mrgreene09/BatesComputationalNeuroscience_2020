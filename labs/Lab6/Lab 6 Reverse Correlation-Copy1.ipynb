{
 "cells": [
  {
   "cell_type": "markdown",
   "metadata": {},
   "source": [
    "## <span style=\"color:black\">Reverse Correlation and Receptive Field Mapping</span>\n",
    "\n",
    "Reverse correlation is a technique for studying how sensory neurons respond to various stimuli, in order to understand the relationship between stimulus and neural response. Many neurons are driven by sensory stimulation from the outside world and is in a baseline state in the absence of that stimulation. When presented with an appropriate stimulus, the neuron is either activated above its baseline state of activity or in some cases suppressed below it's baseline. The degree of activation is captured in the neuron's firing rate.\n",
    "\n",
    "The H1.mat file in this lab contains data collected from de Ruyter van Stevenick from a fly's H1 visual neuron responding to a white noise visual motion. Data were sampled at 500 Hz (in other words, $\\Delta t = 2ms$). \n",
    "\n",
    "Within the file, $rho$ is a boolean vector indicating spike times (1 = spike, 0 = no spike), and $stim$ indicates the intensity of the stimulus (in this case, the horizontal speed of moving dots).\n",
    "\n",
    "<img src=\"image2.gif\" alt=\"drawing\" width=\"400\"/>\n",
    "\n",
    "The fly has two H1 neurons, one in each hemisphere, and they are located in the Lobula plate in the diagram above. These neurons are very large making them easy to record from. Why are they called H1 neurons? Because they detect movement in the horizontal direction! We're going to prove this in the first problem!\n",
    "\n",
    "Compute the spike-triggered average over the range from 0 to 300 ms (inclusive). Create a plot with appropriate labels on the x and y axis."
   ]
  },
  {
   "cell_type": "code",
   "execution_count": 2,
   "metadata": {},
   "outputs": [],
   "source": [
    "# Run this block of code to load the dataset: no alterations are necessary\n",
    "import scipy.io as sio\n",
    "H1 = sio.loadmat('H1.mat')\n",
    "rho = H1['rho']\n",
    "stim = H1['stim']\n",
    "\n",
    "# Making them one dimensional to do further calculations\n",
    "rho = rho[:,0]\n",
    "stim = stim[:,0]"
   ]
  },
  {
   "cell_type": "code",
   "execution_count": 3,
   "metadata": {},
   "outputs": [
    {
     "data": {
      "text/plain": [
       "Text(0.5, 0, 'Time (ms) before spike')"
      ]
     },
     "execution_count": 3,
     "metadata": {},
     "output_type": "execute_result"
    },
    {
     "data": {
      "image/png": "[encoded data removed]",
      "text/plain": [
       "<Figure size 432x288 with 1 Axes>"
      ]
     },
     "metadata": {
      "needs_background": "light"
     },
     "output_type": "display_data"
    }
   ],
   "source": [
    "# import helpful packages\n",
    "import matplotlib.pyplot as plt\n",
    "import numpy as np\n",
    "\n",
    "# find spikes using np.nonzero()\n",
    "spikes, = np.where(rho==1)\n",
    "\n",
    "# Omit any spikes occuring within the first 150 time points\n",
    "spikes = spikes[spikes>150]\n",
    "\n",
    "# pre-allocate memory: (hint: # spikes x 300 ms matrix)\n",
    "Stim = np.zeros((len(spikes), 150))\n",
    "\n",
    "# loop through matrix and store 300 ms of stimulus before each spike\n",
    "for i in range(len(spikes)):\n",
    "    Stim[i,:] = stim[spikes[i]-150:spikes[i]]\n",
    "\n",
    "# average across each row of stim to create STA\n",
    "STA = np.mean(Stim, axis=0)\n",
    "\n",
    "# plot the results\n",
    "time = np.arange(-300, 0, 2)\n",
    "plt.figure()\n",
    "plt.plot(time, STA)\n",
    "plt.ylabel('Average horizontal velocity of dots (degrees/second)')\n",
    "plt.xlabel('Time (ms) before spike')"
   ]
  },
  {
   "cell_type": "markdown",
   "metadata": {},
   "source": [
    "In 3-5 sentences, describe what the shape and time course fo the STA is telling you."
   ]
  },
  {
   "cell_type": "code",
   "execution_count": null,
   "metadata": {},
   "outputs": [],
   "source": [
    "# Answer:"
   ]
  },
  {
   "cell_type": "markdown",
   "metadata": {},
   "source": [
    "### Gaussian White Noise and Cat Retinal Ganglion Cell:\n",
    "\n",
    "Now that you have learned how to apply reverse correlation to determine the average stimulus before a spike in a fly's H1 neuron, we are going to move on to a new data set.\n",
    "\n",
    "The ganglion.mat file contains responses from the cat retinal ganglion cell (RGC) to two-dimensional images of Gaussian white noise. To read more about the dataset, see Kara, Reinagel & Reid (2000) *Neuron*. There are two enclosed objects: *counts* is a vector showing the number of spikes in each 15.6 ms time bin, and *stim* contains the 16x16 pixel random images that were shown at the corresponding times. In other words, stim(x,y,t) represents the pixel presented at coordinate (x,y) at time t.\n",
    "\n",
    "To get an idea of what these images look like, write a for-loop which visualizes the first 10 images in a subplot with 2 rows and 5 columns."
   ]
  },
  {
   "cell_type": "code",
   "execution_count": null,
   "metadata": {},
   "outputs": [],
   "source": [
    "# Run this block of code to load the dataset: no alterations are necessary\n",
    "import scipy.io as sio\n",
    "ganglion = sio.loadmat('ganglion.mat')\n",
    "counts = ganglion['counts']\n",
    "stim = ganglion['stim']"
   ]
  },
  {
   "cell_type": "code",
   "execution_count": null,
   "metadata": {},
   "outputs": [],
   "source": [
    "# Import packages\n",
    "import numpy as np\n",
    "import matplotlib.pyplot as plt\n",
    "\n",
    "# Setting up plotting structure\n",
    "plt.figure()\n",
    "plt.subplots(nrows=2,ncols=10,figsize=(10,3))\n",
    "# For-loop to plot images\n",
    "for i in range():\n",
    "    plt.subplot(2,5,i+1)\n",
    "    plt.imshow()"
   ]
  },
  {
   "cell_type": "markdown",
   "metadata": {},
   "source": [
    "Now, visualize the average across of all of the images in the cell below to demonstrate why we will need to why the images by how many spikes they elicit.\n",
    "\n",
    "Challenge: Do it in one line.\n"
   ]
  },
  {
   "cell_type": "code",
   "execution_count": null,
   "metadata": {},
   "outputs": [],
   "source": [
    "# your code here"
   ]
  },
  {
   "cell_type": "markdown",
   "metadata": {},
   "source": [
    "In the cell below, write a brief explanation for why the above photo is blank."
   ]
  },
  {
   "cell_type": "code",
   "execution_count": null,
   "metadata": {},
   "outputs": [],
   "source": [
    "# Answer:"
   ]
  },
  {
   "cell_type": "markdown",
   "metadata": {},
   "source": [
    "Next, calculate the spike-triggered average of the images in the set occuring at each spike. Note that there can be more than one spike in each time bin, so the STA must be computed by weighing each image by the number of spikes elicited in the corresponding time bin. Visualize the results using the **plt.imshow()** function."
   ]
  },
  {
   "cell_type": "code",
   "execution_count": null,
   "metadata": {},
   "outputs": [],
   "source": [
    "# Import packages\n",
    "import numpy as np\n",
    "import scipy.io as sio\n",
    "import matplotlib.pyplot as plt\n",
    "\n",
    "# create arrays\n",
    "ganglion = sio.loadmat('ganglion.mat')\n",
    "counts = ganglion['counts']\n",
    "stim = ganglion['stim']\n",
    "\n",
    "# find spikes using np.nonzero()\n",
    "\n",
    "# initialize data structures\n",
    "imStore = np.zeros()\n",
    "imFinal = np.zeros()\n",
    "\n",
    "# loop through time bins and find image index of spike\n",
    "# Grab image at each spike time and multiply it by the number of spikes in the corresponding time bin\n",
    "for i in range():\n",
    "    # Find number of spikes\n",
    "\n",
    "    # Find corresponding image\n",
    "    \n",
    "    # Store the weighted image in imStore\n",
    "\n",
    "# Calculate the average image\n",
    "imFinal = \n",
    "\n",
    "# Plot the image\n",
    "plt.figure()\n",
    "plt.imshow()"
   ]
  },
  {
   "cell_type": "markdown",
   "metadata": {},
   "source": [
    "The above image represents average image of what was shown the cat at the time of the spike. However, neurons do not fire instantaneously. Create an STA image for the average image shown immediately *before* each spike. Visualize this as before.\n"
   ]
  },
  {
   "cell_type": "code",
   "execution_count": null,
   "metadata": {},
   "outputs": [],
   "source": [
    "# your code here"
   ]
  },
  {
   "cell_type": "markdown",
   "metadata": {},
   "source": [
    "In 3-5 sentences, describe what you are seeing in the cell's response over time. Recall the types of receptive fields in RGC. What type of neuron does this seem to be?"
   ]
  },
  {
   "cell_type": "code",
   "execution_count": null,
   "metadata": {},
   "outputs": [],
   "source": [
    "# answer:"
   ]
  },
  {
   "cell_type": "markdown",
   "metadata": {},
   "source": [
    "### Optional Challenge for Hackers!\n",
    "\n",
    "In Gosselin & Schyns (2003) *Psychological Science* participants were shown Gaussian white noise images and told that occasionally, a low-contrast letter S was embeddd within it. After viewing 15,000 images and occasionally \"seeing\" a letter S, the average image for one observer is shown on the left. It was blurred and thresholded to be seen more clearly on the right.\n",
    "\n",
    "<img src=\"image1.png\" alt=\"drawing\" width=\"200\"/>\n",
    "\n",
    "Simulate this experiment using an image of a human face in face.jpg. Create 15,000 Guassian white noise images. Correlate each image with the face image. If the correlation is above a threshold given below, save the face template. In cognitive psychology, this analog to reverse correlation is known as a \"classification image\"\n",
    "\n",
    "<img src=\"face.jpg\" alt=\"drawing\" width=\"200\"/>"
   ]
  },
  {
   "cell_type": "code",
   "execution_count": null,
   "metadata": {},
   "outputs": [],
   "source": [
    "# Load in the image\n",
    "faceMat = plt.imread('face.jpg')\n",
    "\n",
    "# Define face vector (turns from 64x64 to 4096,)\n",
    "faceVec = np.ravel(faceMat)\n",
    "\n",
    "# Initialize counter\n",
    "count = -1\n",
    "\n",
    "# Initialize data structure\n",
    "chosenImage = np.zeros()\n",
    "\n",
    "# For-loop to generate Gaussian white noise images and correlate them with faceMat\n",
    "for i in range(15000):\n",
    "    # Create random image using np.random.normal()\n",
    "    randImage = \n",
    "    \n",
    "    # Use this line to turn from 64x64 to 4096,\n",
    "    imageVector = np.ravel(randImage)\n",
    "    \n",
    "    # Calculate correlation using np.corrcoef\n",
    "    c = \n",
    "    thisCorr = c[0,1]\n",
    "    \n",
    "    # Conditional to save higher correlated images to chosenImages\n",
    "    if thisCorr > 0.025:\n",
    "        # Increment counter\n",
    "        \n",
    "        # Save in chosenImages\n",
    "        \n",
    "# Remove the zeros still in chosenImages\n",
    "        \n",
    "\n",
    "# Calculate average of saved images\n",
    "avg_im = \n",
    "plt.figure()\n",
    "plt.imshow(avg_im, cmap='gray')"
   ]
  },
  {
   "cell_type": "markdown",
   "metadata": {},
   "source": [
    "Great work! Please upload this file to Lyceum for grading."
   ]
  }
 ],
 "metadata": {
  "kernelspec": {
   "display_name": "Python 3",
   "language": "python",
   "name": "python3"
  },
  "language_info": {
   "codemirror_mode": {
    "name": "ipython",
    "version": 3
   },
   "file_extension": ".py",
   "mimetype": "text/x-python",
   "name": "python",
   "nbconvert_exporter": "python",
   "pygments_lexer": "ipython3",
   "version": "3.7.7"
  }
 },
 "nbformat": 4,
 "nbformat_minor": 4
}
