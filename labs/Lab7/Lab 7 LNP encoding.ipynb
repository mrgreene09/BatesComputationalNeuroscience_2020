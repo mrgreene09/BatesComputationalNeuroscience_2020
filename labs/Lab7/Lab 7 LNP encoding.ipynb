{
 "cells": [
  {
   "cell_type": "markdown",
   "metadata": {},
   "source": [
    "# Linear Nonlinear Poisson (LNP) Encoding Model\n",
    "\n",
    "The goal of this lab is for you to create a linear-nonlinear-Poisson encoding model. Your inputs will be the stimulus shown to the H1 neuron and the spike-triggered average (STA). You will then approximate the firing rate of the neuron via convolution, use the sigmoid function as a nonlinear decision function, and then create a non-homogenous Poisson process to generate spikes.\n",
    "\n",
    "You will test how well your model does over the course of several runs. Let's break this down into parts. You may run the cell below to load in your data."
   ]
  },
  {
   "cell_type": "code",
   "execution_count": 1,
   "metadata": {},
   "outputs": [],
   "source": [
    "from scipy.io import loadmat\n",
    "data = loadmat('H1.mat')\n",
    "rho = data['rho']\n",
    "stim = data['stim']\n",
    "rho = rho.flatten()\n",
    "stim = stim.flatten()"
   ]
  },
  {
   "cell_type": "markdown",
   "metadata": {},
   "source": [
    "The first step is to create the spike-triggered average for the cell. You may use the code that you created in the previous lab for this step."
   ]
  },
  {
   "cell_type": "code",
   "execution_count": null,
   "metadata": {},
   "outputs": [],
   "source": [
    "# your code here"
   ]
  },
  {
   "cell_type": "markdown",
   "metadata": {},
   "source": [
    "Next, you will want to create the linear approximation of the neuron's firing rate by convolving the spike-triggered average with the stimulus.\n",
    "\n",
    "Plot the first 1000 datapoints of your resulting vector."
   ]
  },
  {
   "cell_type": "code",
   "execution_count": null,
   "metadata": {},
   "outputs": [],
   "source": [
    "# your code here"
   ]
  },
  {
   "cell_type": "markdown",
   "metadata": {},
   "source": [
    "Great! We have completed the linear portion of the model. Now, we need to use a nonlinearity to better model both the neuron's threshold and saturation values. Finish the function below to implement a sigmoid function.\n",
    "\n",
    "$$x_{\\sigma} = \\frac{1}{1+e^{-x}} $$"
   ]
  },
  {
   "cell_type": "code",
   "execution_count": 5,
   "metadata": {},
   "outputs": [],
   "source": [
    "# implement sigmoid\n",
    "def sigmoid(x):\n",
    "    return # fill me in"
   ]
  },
  {
   "cell_type": "markdown",
   "metadata": {},
   "source": [
    "We can see that the values from the approximated firing rate are pretty big. If we put them into the sigmoid directly, they would all become near 0 or near 1. In order to have a smoothly varying function, express the vector in terms of its z-score. You may do this by hand using the following formula, or use the built-in zscore() function from scipy.stats.\n",
    "\n",
    "$$x_{norm} = \\frac{x-\\mu}{\\sigma}$$\n",
    "\n",
    "Where $\\mu$ is the mean and $\\sigma$ is the standard deviation."
   ]
  },
  {
   "cell_type": "code",
   "execution_count": null,
   "metadata": {},
   "outputs": [],
   "source": [
    "# your code here"
   ]
  },
  {
   "cell_type": "markdown",
   "metadata": {},
   "source": [
    "Use your sigmoid function on your z-scored approximation to create a vector that reprents the nonlinear firing response. Plot the first 1000 points of this vector. "
   ]
  },
  {
   "cell_type": "code",
   "execution_count": null,
   "metadata": {},
   "outputs": [],
   "source": [
    "# your code here"
   ]
  },
  {
   "cell_type": "markdown",
   "metadata": {},
   "source": [
    "Each value of the nonlinear firing rate approximation is now proportional to the probability that the neuron will fire in any time *t*. We now want to use this fact to have our model spike.\n",
    "\n",
    "* First, compute the overall proportion of time bins in *rho* that contain spikes.\n",
    "* Multiply this value by the nonlinear firing approximation to create a probability of firing for each time point.\n",
    "* Using np.random.rand() implement a Poisson process based on this probability.\n",
    "\n",
    "Your output should be a binary vector that is the same size as rho."
   ]
  },
  {
   "cell_type": "code",
   "execution_count": null,
   "metadata": {},
   "outputs": [],
   "source": [
    "# your code here"
   ]
  },
  {
   "cell_type": "markdown",
   "metadata": {},
   "source": [
    "Let's see how well our model does. Fill in the code below to create a plot the first 1000 points of the original spike train, rho, as well as your new vector, spikes. "
   ]
  },
  {
   "cell_type": "code",
   "execution_count": null,
   "metadata": {},
   "outputs": [],
   "source": [
    "# compare to original rho\n",
    "plt.figure()\n",
    "plt.subplot(2,1,1)\n",
    "plt.plot(np.arange(1000), rho[0:1000])\n",
    "plt.title('Original Spikes')\n",
    "plt.subplot(2,1,2)\n",
    "plt.plot(np.arange(1000), spikes[0:1000])\n",
    "plt.title('Model Spikes')"
   ]
  },
  {
   "cell_type": "markdown",
   "metadata": {},
   "source": [
    "There can be a good deal of randomness in this result from the Poisson process. Your plots are unlikely to look similar to your collaborators'. In order to see how well this model fits, we would like to compute a measure of its error. \n",
    "\n",
    "Loop through each item in your vectors, and count up the number of times your model disagrees with the ground truth. Express this as a proportion of errors by dividing by the length of the vector."
   ]
  },
  {
   "cell_type": "code",
   "execution_count": null,
   "metadata": {},
   "outputs": [],
   "source": [
    "# your code here"
   ]
  },
  {
   "cell_type": "markdown",
   "metadata": {},
   "source": [
    "Let's now check how representative your result is.\n",
    "\n",
    "In a loop, create a new Poisson-generated spike train 100 times. For each of these Poisson spike trains, compare them to *rho* using your error counting code above. Save each error level in a vector, and plot a histogram of errors over the 100 runs."
   ]
  },
  {
   "cell_type": "code",
   "execution_count": null,
   "metadata": {},
   "outputs": [],
   "source": [
    "# your code here"
   ]
  },
  {
   "cell_type": "markdown",
   "metadata": {},
   "source": [
    "How good is this model overall? Use your histogram to comment on the extent to which this type of encoder is good for this H1 neuron."
   ]
  },
  {
   "cell_type": "code",
   "execution_count": null,
   "metadata": {},
   "outputs": [],
   "source": [
    "# Answer:"
   ]
  },
  {
   "cell_type": "markdown",
   "metadata": {},
   "source": [
    "Great work today! Please submit this notebook to Lyceum for grading."
   ]
  }
 ],
 "metadata": {
  "kernelspec": {
   "display_name": "Python 3",
   "language": "python",
   "name": "python3"
  },
  "language_info": {
   "codemirror_mode": {
    "name": "ipython",
    "version": 3
   },
   "file_extension": ".py",
   "mimetype": "text/x-python",
   "name": "python",
   "nbconvert_exporter": "python",
   "pygments_lexer": "ipython3",
   "version": "3.7.7"
  }
 },
 "nbformat": 4,
 "nbformat_minor": 4
}
