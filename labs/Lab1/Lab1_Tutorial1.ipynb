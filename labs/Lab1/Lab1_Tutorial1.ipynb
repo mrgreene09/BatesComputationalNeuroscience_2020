{
 "cells": [
  {
   "cell_type": "markdown",
   "metadata": {},
   "source": [
    "## <span style=\"color:black\"> Welcome to Computational Neuroscience!</span>\n",
    "\n",
    "This tutorial will take you through the core functionality of Jupyter Notebooks and some basic Python concepts. At the end of the lab, please export this file as a PDF and upload it to Lyceum for grading.\n",
    "\n",
    "### Part 0: A tour\n",
    "\n",
    "Jupyter notebooks are organized around independent blocks of code called *cells*. To execute these cells, you can either click **Run** (located on the toolbar) or press **Shift + Enter**.\n",
    "\n",
    "Python can be used to do virutally anything. However, compared to other languages, Python doesn't have many built-in functions. Similar to the concept of functions in math, functions in Python take an input and return and output, however, rather than just a number, the input in these functions can be just about anything. A list of functions already built into Python are listed [here](https://docs.python.org/3/library/functions.html).\n",
    "\n",
    "Fortunately, there are many packages that you can import into your Python script that have plenty of functions which make our lives a lot easier."
   ]
  },
  {
   "cell_type": "markdown",
   "metadata": {},
   "source": [
    "### Part 1: Warm up: Let's do some math!\n",
    "\n",
    "\n",
    "Let's try this:\n",
    "\n",
    "Add two numbers of your choice in the cell below."
   ]
  },
  {
   "cell_type": "code",
   "execution_count": null,
   "metadata": {},
   "outputs": [],
   "source": []
  },
  {
   "cell_type": "markdown",
   "metadata": {},
   "source": [
    "Find the value of five squared. (Hint: Python uses ** as the exponent character)"
   ]
  },
  {
   "cell_type": "code",
   "execution_count": null,
   "metadata": {},
   "outputs": [],
   "source": []
  },
  {
   "cell_type": "markdown",
   "metadata": {},
   "source": [
    "Using one of the three methods presented in class, find the value of the square root of 16. \n",
    "\n",
    "Remember: \n",
    "- Python doesn't have a built-in square root function, tun the following cell to see how to import a package and use one of it's functions.\n",
    "- In order to use a function stored in a package, you need to reference that package first"
   ]
  },
  {
   "cell_type": "code",
   "execution_count": null,
   "metadata": {},
   "outputs": [],
   "source": []
  },
  {
   "cell_type": "markdown",
   "metadata": {},
   "source": [
    "Python uses the standard order of operations:\n",
    "1. Parentheses\n",
    "2. Exponents\n",
    "3. Multiplication\n",
    "4. Division\n",
    "5. Addition\n",
    "6. Subtration\n",
    "\n",
    "##### Use the correct parentheses to verfy that\n",
    "\n",
    "$$2+[5*3/(7-5)^2]/3\n",
    "$$\n",
    "##### Equals 3.25"
   ]
  },
  {
   "cell_type": "code",
   "execution_count": null,
   "metadata": {},
   "outputs": [],
   "source": []
  },
  {
   "cell_type": "markdown",
   "metadata": {},
   "source": [
    "### Part 2: Variables and Data Types\n",
    "\n",
    "Variables in Python can hold a variety of data. They are *assigned* by making up a variable name followed by =. For example:  \n",
    "``` python\n",
    "    myVariable = 4\n",
    "```    \n",
    "Creates a variable called \"myVariable\" whose value is 4. In general, you can choose anything for a variable name. However, a few rules need to be followed:  \n",
    "- A variable name must start with a letter or the underscore character.  \n",
    "- A variable name cannot start with a number.  \n",
    "- A variable name can only contain alpha-numeric characters and underscores (A-z, 0-9, and _ ).    \n",
    "- Variable names are case-sensitive (cat, Cat and CAT are three different variables).  \n",
    "\n",
    "Practice below by creating a variable and setting to a number of your choice.\n"
   ]
  },
  {
   "cell_type": "code",
   "execution_count": 4,
   "metadata": {},
   "outputs": [],
   "source": []
  },
  {
   "cell_type": "markdown",
   "metadata": {},
   "source": [
    "Python supports 8 different data types:\n",
    "1. Integers\n",
    "2. Floats\n",
    "3. Strings\n",
    "4. Lists\n",
    "5. Tuples\n",
    "6. Boolean\n",
    "7. Objects\n",
    "8. Dictionaries\n",
    "\n",
    "We will go over each of them. Here, we will go over some of the core types.\n",
    "\n",
    "#### Integers:  \n",
    "Integers are positive or negative whole numbers with no decimal point.  \n",
    "\n",
    "In the cell below, create a variable called *thisMonth* and set it to the integer 9."
   ]
  },
  {
   "cell_type": "code",
   "execution_count": null,
   "metadata": {},
   "outputs": [],
   "source": []
  },
  {
   "cell_type": "markdown",
   "metadata": {},
   "source": [
    "You can verify this variable is an integer by using one of Python's built-in functions called **_type()_** with the name of the variable in parentheses.\n",
    "\n",
    "Try it in the cell below."
   ]
  },
  {
   "cell_type": "code",
   "execution_count": null,
   "metadata": {},
   "outputs": [],
   "source": []
  },
  {
   "cell_type": "markdown",
   "metadata": {},
   "source": [
    "As you have now verified that *thisMonth* is an integer, use it to make the variable *nextMonth* equal to 10."
   ]
  },
  {
   "cell_type": "code",
   "execution_count": null,
   "metadata": {},
   "outputs": [],
   "source": [
    "nextMonth = \n",
    "print(nextMonth)"
   ]
  },
  {
   "cell_type": "markdown",
   "metadata": {},
   "source": [
    "***\n",
    "#### Floats:\n",
    "Floats (a.k.a *floating point numbers*) are positive or negative numbers with a decimal place. They can also be used in scientific notation.\n",
    "\n",
    "Create a variable called *circ* which is equal to the value of pi squared. Then, use the **print()** function to show the value of *circ*.\n",
    "\n",
    "Hint: pi is not native to Python, try referencing a package you have already imported "
   ]
  },
  {
   "cell_type": "code",
   "execution_count": 12,
   "metadata": {},
   "outputs": [],
   "source": []
  },
  {
   "cell_type": "markdown",
   "metadata": {},
   "source": [
    "***\n",
    "#### Strings:\n",
    "Strings are plain, human-readable text, and are amongst the most popular types in Python. We can create them simply by enclosing characters in single or double quotes. \n",
    "\n",
    "Create a variable called *string1* and assign it to the word *hello*.\n",
    "\n",
    "Create another variable called *string2* and assign it to the word *goodbye*.\n",
    "\n",
    "Use the **print()** function to print both.  "
   ]
  },
  {
   "cell_type": "code",
   "execution_count": null,
   "metadata": {},
   "outputs": [],
   "source": []
  },
  {
   "cell_type": "markdown",
   "metadata": {},
   "source": [
    "***\n",
    "Integers, floats, and strings are the three core data types you will be working with in this class. **However, organizing that data is just as important.**\n",
    "\n",
    "#### Lists:\n",
    "Lists refer to a series of variables contained within square brackets and separated by commas.\n",
    "\n",
    "Create a list called *L1* and assign it to a set of any 3 integers or floats.\n",
    "\n",
    "Create another list called *L2* and assign it to a set of any 3 strings.\n",
    "\n",
    "Print both of your lists."
   ]
  },
  {
   "cell_type": "code",
   "execution_count": 51,
   "metadata": {},
   "outputs": [],
   "source": []
  },
  {
   "cell_type": "markdown",
   "metadata": {},
   "source": [
    "***\n",
    "#### Tuples:\n",
    "Similar to a list, tuples store a sequence of values, however their values are *immutable* which means that once you assign an item to the tuple, it cannot be changed. The values are enclosed by parentheses and separated by commas. \n",
    "\n",
    "Create a tuple of any three values and save it as T1. Print your tuple."
   ]
  },
  {
   "cell_type": "code",
   "execution_count": 53,
   "metadata": {},
   "outputs": [],
   "source": []
  },
  {
   "cell_type": "markdown",
   "metadata": {},
   "source": [
    "You can use some built-in functions on lists and tuples to find out important information about them.\n",
    "\n",
    "Try using **len(), max(), min(), and sum()** on your lists and tuples to see how they can be used."
   ]
  },
  {
   "cell_type": "code",
   "execution_count": null,
   "metadata": {},
   "outputs": [],
   "source": []
  },
  {
   "cell_type": "code",
   "execution_count": null,
   "metadata": {},
   "outputs": [],
   "source": []
  },
  {
   "cell_type": "code",
   "execution_count": null,
   "metadata": {},
   "outputs": [],
   "source": []
  },
  {
   "cell_type": "code",
   "execution_count": null,
   "metadata": {},
   "outputs": [],
   "source": []
  },
  {
   "cell_type": "markdown",
   "metadata": {},
   "source": [
    "### Part 3: Vectors and Matrices\n",
    "\n",
    "Lists and tuples in Python are good for storing information, but aren't efficient for many of the calculations we will be doing in this class. The *numpy* package that you have already been introduced to has a solution for this problem! A vector (similar to a list) is a sequence of numbers (integers or floats) that has just one dimension, whereas matrices have multiple dimensions (similar to a spreadsheet with rows and columns). You can define the values and dimensions of vectors and matrices in a numpy *array*, which has the following syntax:  \n",
    "```python\n",
    "    import numpy as np\n",
    "    vector = np.array([2,4,6,8])\n",
    "    matrix = np.array([[2,4],[6,8]])\n",
    "```\n",
    "    \n",
    "Copy the above code in the cell below and use the [**np.shape()**](https://docs.scipy.org/doc/numpy/reference/generated/numpy.ndarray.shape.html) command to examine how they are different. Write a brief explanation about how and why the two arrays are different, noting the change in syntax."
   ]
  },
  {
   "cell_type": "code",
   "execution_count": 15,
   "metadata": {},
   "outputs": [],
   "source": [
    "# Code: \n",
    "# Answer:"
   ]
  },
  {
   "cell_type": "markdown",
   "metadata": {},
   "source": [
    "Numpy also has helpful functions to automatically create some common types of vectors or matrices:\n",
    "\n",
    "- **np.arange(**_start,stop,step_**)** creates a vector which counts from the *start* to *stop* in intervals given by *step*. Note: The stop parameter is _non-inclusive_ meaning that the range of numbers will go up to but not include the stop parameter.\n",
    "- **np.zeros(**_(rows,columns)_**)** creates a matrix of zeros with a given size. Useful for creating space to be filled with real data later.\n",
    "- **np.ones(**_(rows,columns)_**)** creates a matrix of ones with a given size that is useful for matrix operations as well as creating space.\n",
    "\n",
    "Create a vector which counts from 1 to 10 in increments of 1."
   ]
  },
  {
   "cell_type": "code",
   "execution_count": null,
   "metadata": {},
   "outputs": [],
   "source": [
    "vec1 = \n",
    "print(vec1)"
   ]
  },
  {
   "cell_type": "markdown",
   "metadata": {},
   "source": [
    "Create a matrx of zeros with 2 rows and 3 columns."
   ]
  },
  {
   "cell_type": "code",
   "execution_count": null,
   "metadata": {},
   "outputs": [],
   "source": [
    "mat1 = \n",
    "print(mat1)"
   ]
  },
  {
   "cell_type": "markdown",
   "metadata": {},
   "source": [
    "Create a matrix of ones with 4 rows and 8 columns."
   ]
  },
  {
   "cell_type": "code",
   "execution_count": null,
   "metadata": {},
   "outputs": [],
   "source": [
    "mat2 = \n",
    "print(mat2)"
   ]
  },
  {
   "cell_type": "markdown",
   "metadata": {},
   "source": [
    "Now, let's do some calculations! Create a vector of length 4 containing any 4 integers and multipy each value by 2.\n",
    "\n",
    "For example:\n",
    "``` python\n",
    "    vec1 = np.array([num1,num2,num3,num4])\n",
    "    vec2 = vec1*2\n",
    "```\n",
    "    \n",
    "Print the resulting vector to see what has happened:"
   ]
  },
  {
   "cell_type": "code",
   "execution_count": null,
   "metadata": {},
   "outputs": [],
   "source": []
  },
  {
   "cell_type": "markdown",
   "metadata": {},
   "source": [
    "Each value was doubled, right?\n",
    "\n",
    "Now, make a 2x2 matrix containing any integers and multiply it by 2. Your resulting matrix should also have values that are doubled:"
   ]
  },
  {
   "cell_type": "code",
   "execution_count": null,
   "metadata": {},
   "outputs": [],
   "source": []
  },
  {
   "cell_type": "markdown",
   "metadata": {},
   "source": [
    "#### Througout the class, we will be working with vectors and arrays with millions of elements. So understanding the basics is very important."
   ]
  },
  {
   "cell_type": "markdown",
   "metadata": {},
   "source": [
    "### Part 4: Indexing\n",
    "\n",
    "Once you have your data organized, you may want to be able to access specific elements or groups of items from these structures.\n",
    "\n",
    "As you know, the **np.arange()** function is non-inclusive, meaning that will count up to, but not include the stop parameter. This is because Python is \"zero indexed\", meaning that Python starts counting at zero.\n",
    "\n",
    "Verify this yourself by running the following cell and observing the values and length of the resulting vector. Hint: **len()** is a built-in function that will give you the length of a vector.  "
   ]
  },
  {
   "cell_type": "code",
   "execution_count": null,
   "metadata": {},
   "outputs": [],
   "source": [
    "np.arange(10)"
   ]
  },
  {
   "cell_type": "markdown",
   "metadata": {},
   "source": [
    "This concept can be confusing at first but is very important when it comes to choosing which data you want to access. For example: if you wanted to get the 3rd value in a list, you would use the following syntax:\n"
   ]
  },
  {
   "cell_type": "code",
   "execution_count": 1,
   "metadata": {},
   "outputs": [
    {
     "data": {
      "text/plain": [
       "5"
      ]
     },
     "execution_count": 1,
     "metadata": {},
     "output_type": "execute_result"
    }
   ],
   "source": [
    "list1 = [1, 4, 5, 7, 9]\n",
    "list1[2]"
   ]
  },
  {
   "cell_type": "markdown",
   "metadata": {},
   "source": [
    "The number 5 is returned because [2] refers to the *third* value when we start counting at zero!\n",
    "\n",
    "In the cell below, run the **%whos** command to see what variables you have define already. This is a very helpful function that we will be using a lot!"
   ]
  },
  {
   "cell_type": "code",
   "execution_count": null,
   "metadata": {},
   "outputs": [],
   "source": []
  },
  {
   "cell_type": "markdown",
   "metadata": {},
   "source": [
    "Now, choose one of the lists you made earlier, and access the first item in the list using square brackets."
   ]
  },
  {
   "cell_type": "code",
   "execution_count": null,
   "metadata": {},
   "outputs": [],
   "source": []
  },
  {
   "cell_type": "markdown",
   "metadata": {},
   "source": [
    "#### You can also use indexing to change values already in a list!\n",
    "\n",
    "Try changing the second value of *L1* to a string containing your name. Print out the list to check your work."
   ]
  },
  {
   "cell_type": "code",
   "execution_count": null,
   "metadata": {},
   "outputs": [],
   "source": []
  },
  {
   "cell_type": "markdown",
   "metadata": {},
   "source": [
    "If you index a list by a negative number, it counts from the end of the list. Use this principle to print out the last value of L2."
   ]
  },
  {
   "cell_type": "code",
   "execution_count": null,
   "metadata": {},
   "outputs": [],
   "source": []
  },
  {
   "cell_type": "markdown",
   "metadata": {},
   "source": [
    "You can access more than one item by using a colon. Run the following and write a comment under each line explaining what it does:"
   ]
  },
  {
   "cell_type": "code",
   "execution_count": null,
   "metadata": {},
   "outputs": [],
   "source": [
    "shopping_list = ['apple','banana','carrot','dates','eggs']\n",
    "print(shopping_list[:])\n",
    "# your comment here\n",
    "print(shopping_list[2:4])\n",
    "# your comment here\n",
    "print(shopping_list[3:])\n",
    "# your comment here\n",
    "print(shopping_list[:-2])\n",
    "# your comment here"
   ]
  },
  {
   "cell_type": "markdown",
   "metadata": {},
   "source": [
    "You can use Python's built-in [**_sorted()_**](https://docs.python.org/3/howto/sorting.html) function to return a sorted copy of the values stored in your list."
   ]
  },
  {
   "cell_type": "code",
   "execution_count": null,
   "metadata": {},
   "outputs": [],
   "source": []
  },
  {
   "cell_type": "markdown",
   "metadata": {},
   "source": [
    "You can sort in reverse order by using the 'reverse=True' optional parameter. Use the cell below to sort a list of your choice."
   ]
  },
  {
   "cell_type": "code",
   "execution_count": 8,
   "metadata": {},
   "outputs": [],
   "source": [
    "sorted( ,reverse=True)"
   ]
  },
  {
   "cell_type": "markdown",
   "metadata": {},
   "source": [
    "**sorted()** can be used on any sort of list or iterable and returns an altered copy of the original list without actually changing it. In other words, if you want to save a sorted list, you should assign (or re-assign) a variable to the **sorted()** version."
   ]
  },
  {
   "cell_type": "markdown",
   "metadata": {},
   "source": [
    "#### Numpy arrays convieniently follow the same indexing rules as lists do.\n",
    "\n",
    "Conveniently, one-dimensional numpy arrays (vectors) can be indexed with the same syntax as lists. What do we do with multi-dimensional arrays (matrices)? To access the various rows and columns stored within a matrix, use a comma to separate the different dimensions. The *row* is always access first, followed by the *column*. For example, if you wanted to access the value stored in the 3rd row and 2nd column, you could do the following:\n",
    "\n",
    "```python \n",
    "    matrix = np.array([[1,2,3,4],[2,4,6,8],[3,6,9,12]])\n",
    "    print(matrix[2,1])\n",
    "```\n",
    "\n",
    "which returns:\n",
    "\n",
    "```python\n",
    "    6\n",
    "```\n",
    "    \n",
    "In the cell below, predict which values each line of code will return, and then run the cell to see how you did."
   ]
  },
  {
   "cell_type": "code",
   "execution_count": null,
   "metadata": {},
   "outputs": [],
   "source": [
    "matrix = np.array([[1,2,3,4],[2,4,6,8],[3,6,9,12]])\n",
    "\n",
    "\n",
    "print(matrix[1,0])\n",
    "# Answer:\n",
    "\n",
    "print(matrix[0,3])\n",
    "# Answer:\n",
    "\n",
    "print(matrix[2,-1])\n",
    "# Answer:\n",
    "\n",
    "print(matrix[:,2])\n",
    "# Answer:\n",
    "\n",
    "print(matrix[1:,:2])\n",
    "# Answer:\n",
    "\n",
    "print(matrix[0,:])\n",
    "# Answer:"
   ]
  },
  {
   "cell_type": "markdown",
   "metadata": {},
   "source": [
    "Now that you know how to navigate around data structures, let's give you some practice! There are several ways to approach most Python problems, and this is an example. The code below loads in 3 arrays. The arrays mostly contain numbers, but each contains a single string. The three strings, when combined, create a secret code!\n",
    "\n",
    "Using the methods you have learned so far (indexing, sorting, printing, etc.), find the strings and type the message in a comment:\n",
    "\n",
    "Hint: Use **np.shape()**  on each array to get an idea of how big each matrix is to help you decide the fasest method of decoding the hidden message."
   ]
  },
  {
   "cell_type": "code",
   "execution_count": 9,
   "metadata": {},
   "outputs": [],
   "source": [
    "array1 = np.load('array1.npy')\n",
    "array2 = np.load('array2.npy')\n",
    "array3 = np.load('array3.npy')\n",
    "\n",
    "# Your code here:\n",
    "\n",
    "# Answer:"
   ]
  },
  {
   "cell_type": "markdown",
   "metadata": {},
   "source": [
    "### Part 5: Booleans\n",
    "\n",
    "Another data type that you will encounter is the Logical (aka Boolean). These are binary variables that can take the values True and False. They are useful for making comparisons and filtering data.\n",
    "\n",
    "One way of using logicals to to make tests that will return True or False depending on the query. For example, let's say that you want to test whether two items are equal. In this case, you would query it with the == operator. (Note: a single = denotes variable assignment, while == is a logical test).\n",
    "\n",
    "Try it out for yourself: test whether 2 equals 1 and whether 1 equals 1."
   ]
  },
  {
   "cell_type": "code",
   "execution_count": null,
   "metadata": {},
   "outputs": [],
   "source": [
    "print(2==1)\n",
    "print(1==1)"
   ]
  },
  {
   "cell_type": "markdown",
   "metadata": {},
   "source": [
    "**IMPORTANT NOTE:** == and = are not the same thing! A single = assigns a variable name to an object, as you learned earlier. The == wil return a logical value (True or False) depending of the truth of the proposition.\n",
    "\n",
    "Other logical operators that may be useful include:\n",
    "- **_and_** = and\n",
    "- **_or_** = or\n",
    "- **_not_** = not\n",
    "- **_!=_** = not equal to\n",
    "- **_>_** = greater than\n",
    "- **_>=_** = greater than or equal to\n",
    "- **_<_** = less than\n",
    "- **_<=_** = less than or equal to\n",
    "\n",
    "Before running each of the following statements, write a comment that translates the statement into words, and in parentheses, state whether Python should return True or False. For example, 1>2 you should write \"1 is greater than 2 (False)\"."
   ]
  },
  {
   "cell_type": "code",
   "execution_count": null,
   "metadata": {},
   "outputs": [],
   "source": [
    "# \n",
    "1 != 2 or 3 > 4"
   ]
  },
  {
   "cell_type": "code",
   "execution_count": null,
   "metadata": {},
   "outputs": [],
   "source": [
    "# \n",
    "3 == 4 and 8 == (4+4)"
   ]
  },
  {
   "cell_type": "code",
   "execution_count": null,
   "metadata": {},
   "outputs": [],
   "source": [
    "# \n",
    "not(2 <= 8)"
   ]
  },
  {
   "cell_type": "markdown",
   "metadata": {},
   "source": [
    "Logicals are a useful tool for selecting subsets of our data. Let's say that you recorded the firing rate of 7 neurons and placed these data in a vector:"
   ]
  },
  {
   "cell_type": "code",
   "execution_count": 209,
   "metadata": {},
   "outputs": [],
   "source": [
    "firingRates = np.array([20, 45, -1, 200, 57, -1])"
   ]
  },
  {
   "cell_type": "markdown",
   "metadata": {},
   "source": [
    "You know that a neuron can't have a negative firing rate, so you know that these values must be errors that should be removed from your analysis.\n",
    "\n",
    "Here, we use a logical expression to remove the bad firing rates and save the resulting vector as GoodFiringRates:"
   ]
  },
  {
   "cell_type": "code",
   "execution_count": null,
   "metadata": {},
   "outputs": [],
   "source": [
    "goodFiringRates = firingRates[firingRates > 0]"
   ]
  },
  {
   "cell_type": "markdown",
   "metadata": {},
   "source": [
    "This is a powerful method, so it's worth breaking it down:\n"
   ]
  },
  {
   "cell_type": "code",
   "execution_count": null,
   "metadata": {},
   "outputs": [],
   "source": [
    "print(firingRates > 0)"
   ]
  },
  {
   "cell_type": "markdown",
   "metadata": {},
   "source": [
    "The expression in the square brackets yields a Boolean vector of True where the firing rates are positive, and False where the firing rate is negative. \n",
    "\n",
    "Recall that square brackets are used to *index* an array. Therefore, \n",
    "```python\n",
    "firingRates[firingRates > 0]\n",
    "```\n",
    "\n",
    "means 'filter firingRates by showing me only the positive values'. \n",
    "\n",
    "We then assign this to the variable goodFiringRates to save the result!\n",
    "\n",
    "Upon futher inspection of your data, you are doubtful that a neuron can fire at 200 Hz. Use a subsetting method of your choice to remove points that have firing rates that are negative or greater than 100 Hz."
   ]
  },
  {
   "cell_type": "code",
   "execution_count": null,
   "metadata": {},
   "outputs": [],
   "source": []
  },
  {
   "cell_type": "markdown",
   "metadata": {},
   "source": [
    "### Part 6: Plotting, Part 1\n",
    "\n",
    "Without being able to visualize data, it is extremely difficult to understand what it means. This is where plotting comes in. There are many different ways to plot data, with line graphs, histograms, and scatter plots being the among the most common.  \n",
    "\n",
    "A common thing that we will do is plot data over time. The general form of a plotting command in such a case is:\n",
    "```python\n",
    "plot(xAxis, yAxis)\n",
    "```\n",
    "\n",
    "Where xAxis and yAxis are vectors that contain the points to be plotted.\n",
    "\n",
    "A helpful function when it comes to plotting such a graph is **np.linspace(**start,stop,num**)** which returns a vector of evenly spaced numbers over a specific interval. This function is similar to the **np.arange()** function except it is *inclusive* and the 3rd parameter indicates how many points the interval should be split into.\n",
    "\n",
    "This is helpful for plotting because you can easily set your x-axis to a set of evenly spaced points over any interval (particularly useful when working with data over time).\n",
    "\n",
    "Run the following cell to see how **np.linspace()** can be used to represent 10 seconds of recording split up into various intervals."
   ]
  },
  {
   "cell_type": "code",
   "execution_count": null,
   "metadata": {},
   "outputs": [],
   "source": [
    "print(np.linspace(1,10,5))\n",
    "print(np.linspace(1,10,10))\n",
    "print(np.linspace(1,10,20))"
   ]
  },
  {
   "cell_type": "markdown",
   "metadata": {},
   "source": [
    "Python by itself does not have the ability to plot data, so you are going to need to import the **_matplotlib.pyplot_** library. \n",
    "\n",
    "Run the following code and briefly describe in a comment what each part of the code does:"
   ]
  },
  {
   "cell_type": "code",
   "execution_count": null,
   "metadata": {},
   "outputs": [],
   "source": [
    "import matplotlib.pyplot as plt\n",
    "\n",
    "firingRates = np.array([20, 45, -1, 200, 57, -1, 35, 52, 180, 25, 28, 42])\n",
    "finalData = firingRates[firingRates > 0]\n",
    "finalData = finalData[finalData < 100]\n",
    "# Answer:\n",
    "\n",
    "xAxis = np.linspace(1,len(finalData),len(finalData))\n",
    "#Answer:\n",
    "\n",
    "plt.figure()\n",
    "plt.plot(xAxis, finalData)\n",
    "# Answer:"
   ]
  },
  {
   "cell_type": "markdown",
   "metadata": {},
   "source": [
    "Here is another block of code. Again, run the following code and breifly describe in a comment what each part of the code does. Hint: if you are unsure what a particular function does, Google is your friend! "
   ]
  },
  {
   "cell_type": "code",
   "execution_count": null,
   "metadata": {},
   "outputs": [],
   "source": [
    "XVec = np.random.randint(1, high=10, size=(20))\n",
    "YVec = np.random.randint(1, high=10, size=(20))\n",
    "# Answer:\n",
    "\n",
    "# Note: for plt.scatter to work, the X and Y vectors must be of equal length\n",
    "plt.figure()\n",
    "plt.scatter(XVec, YVec)\n",
    "# Answer:"
   ]
  },
  {
   "cell_type": "markdown",
   "metadata": {},
   "source": [
    "Next, make a histrogram of random numbers from a normal distribution:"
   ]
  },
  {
   "cell_type": "code",
   "execution_count": null,
   "metadata": {},
   "outputs": [],
   "source": [
    "x = np.random.normal(size = 1000)\n",
    "\n",
    "plt.hist(x, bins=30)\n",
    "plt.ylabel('Frequency');"
   ]
  },
  {
   "cell_type": "markdown",
   "metadata": {},
   "source": [
    "That's it for the basics. If you have time to spare in this lab, feel free to start Lab 2, which will take you through the topics of creating loops, condiditional statements, functions, and more plotting!\n",
    "\n",
    "Remember to export this lab as a PDF and upload it to Lyceum."
   ]
  }
 ],
 "metadata": {
  "kernelspec": {
   "display_name": "Python 3",
   "language": "python",
   "name": "python3"
  },
  "language_info": {
   "codemirror_mode": {
    "name": "ipython",
    "version": 3
   },
   "file_extension": ".py",
   "mimetype": "text/x-python",
   "name": "python",
   "nbconvert_exporter": "python",
   "pygments_lexer": "ipython3",
   "version": "3.7.7"
  }
 },
 "nbformat": 4,
 "nbformat_minor": 2
}
