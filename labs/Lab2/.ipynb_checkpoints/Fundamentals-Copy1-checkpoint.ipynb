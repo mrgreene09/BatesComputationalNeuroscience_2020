{
 "cells": [
  {
   "cell_type": "markdown",
   "metadata": {},
   "source": [
    "## <span style=\"color:black\">Lab 2: Conditionals, Loops, and Functions</span>\n",
    "\n",
    "The beauty of Python is that it can be used to convey any idea that you can express precisely. In fact, once you have mastered these tools, you may find that it is much easier to express your thoughts because natural languages are full of ambiguities.\n",
    "\n",
    "### Conditional Statements: if, elif, else\n",
    "![](image1.jpeg)\n",
    "\n",
    "If you have used IFTTT, then you already understand the concept of conditionals:\n",
    "#### If *this* is true, then do *that*\n",
    "\n",
    "To see this in action, read the following code. Run it, and then write comments telling me what each line of code is doing. It is probably helpful to read the [documentation](https://numpy.org/doc/stable/reference/random/generated/numpy.random.rand.html) of the **np.random.rand()** function."
   ]
  },
  {
   "cell_type": "code",
   "execution_count": null,
   "metadata": {},
   "outputs": [],
   "source": [
    "import numpy as np\n",
    "x = np.random.rand()\n",
    "# What did line 2 do?: \n",
    "\n",
    "if x<0.5:\n",
    "    print('The number', x , 'is less than 0.5')\n",
    "    # What did lines 5-6 do?:\n",
    "else:\n",
    "    print('The number', x , 'is more than 0.5')\n",
    "    # What did lines 8-9 do?:"
   ]
  },
  {
   "cell_type": "markdown",
   "metadata": {},
   "source": [
    "Let's say that you have three conditions, each with their own outcome: result1, result2 and result3. You can use the following structure:\n",
    "\n",
    "```python\n",
    "    if condition1 is True:\n",
    "        print(result1)\n",
    "        \n",
    "    elif condition2 is True:\n",
    "        print(result2)\n",
    "        \n",
    "    else:\n",
    "        print(result3)\n",
    "```\n",
    "        \n",
    "Note: You can use the **pass** command to move on to the next condition without doing anything.\n",
    "\n",
    "Try this out yourself: the first line of code will return a random integer between 0 and 9. Use if, elif, and else to return the words \"result1\", \"result2\", and \"result3\" respectively if the value is less than or equal to 3, between 4 and 6, or greater than or equal to 7."
   ]
  },
  {
   "cell_type": "code",
   "execution_count": 2,
   "metadata": {},
   "outputs": [],
   "source": [
    "randNum = np.random.randint(0,10)\n",
    "# put your if, elif, and else statements here"
   ]
  },
  {
   "cell_type": "markdown",
   "metadata": {},
   "source": [
    "### Looping: Part 1\n",
    "\n",
    "One of the best parts of computer programming is getting the computer to do boring, repetitive work so that you don't have to! Let's say that you have a calculation that you need to do a certain number of times, like processing a set of 25 neurons, or EEG recordings from 16 participants. A *for-loop* will execute any specified code a certain number of times.\n",
    "\n",
    "I like to think about for-loops as a hand crank that will do the same process over and over.\n",
    "\n",
    "For example: If you wanted to write a for-loop to count from 0 to 4, you could do the following:\n",
    "\n",
    "```python\n",
    "for i in range(5):\n",
    "    print(i)\n",
    "```\n",
    "        \n",
    "Where:\n",
    "- **_for_** initiates the loop\n",
    "- **_i_** is the variable assigned a value in the range between 0 and 4\n",
    "- **_in_** is the function which assigns **_i_** to a value in **_range(5)_**\n",
    "- **_range(5)_** returns an integer between 0 and 4 according to how many times the for-loop has iterated. (Remember that the upper bound of *range* is non-inclusive).\n",
    "- **_print(i)_** prints the value of **_i_** because it is idented following the **for** command, indicating that it should be executed\n",
    "\n",
    "Pretty simple when you break it down right?\n",
    "\n",
    "In the cell below, try it yourself - using the template above, write a loop that will print the numbers 0 through 9."
   ]
  },
  {
   "cell_type": "code",
   "execution_count": null,
   "metadata": {},
   "outputs": [],
   "source": []
  },
  {
   "cell_type": "markdown",
   "metadata": {},
   "source": [
    "Let's try another example:\n",
    "\n",
    "In the cell below, write a for-loop that calculates and prints the square of each item in the list."
   ]
  },
  {
   "cell_type": "code",
   "execution_count": 16,
   "metadata": {},
   "outputs": [],
   "source": [
    "numList = [1,2,3,4,5]\n",
    "# Your loop here"
   ]
  },
  {
   "cell_type": "markdown",
   "metadata": {},
   "source": [
    "#### Now let's try something a little bit harder!"
   ]
  },
  {
   "cell_type": "markdown",
   "metadata": {},
   "source": [
    "### Using loops to solve differential equations numerically\n",
    "\n",
    "Because computers are very good at doing lots of boring calculations, we can use them to accurately approximate solutions to differential equiations. This is essential when the numerical solutions do not yet exist (such as in the Hodgkin & Huxley equations that we will see soon), but are also broadly helpful.\n",
    "\n",
    "Here, we will learn one such numerical method, **Euler's method**. It is the oldest and pretty simple, but as we will see in this tutorial, not always the most accurate.\n",
    "\n",
    "Let's start by implementing a solution by hand so that we understand what this method is doing. Consider a simple example:\n",
    "\n",
    "\\begin{equation*}\n",
    "\\frac{dy}{dx} = y\n",
    "\\end{equation*}\n",
    "\n",
    "With an initial condition of $y(0) = 1$. if you were to solve this equation analytically, you would find that it is $e^x$.\n",
    "\n",
    "Euler's method assumes that the slope of the function remains linear between any change in input. In other words, since our initial $y$ value is 1, it will assume a constant slope of 1 within some range of $x$. For this example, let's assume that range ($\\Delta x$) is 1.\n",
    "\n",
    "The Euler solution to a differential equation is:\n",
    "\n",
    "\\begin{equation*}\n",
    "y_{n+1} = y_{n} + \\Delta x * f(x_{n},y_{n})\n",
    "\\end{equation*}"
   ]
  },
  {
   "cell_type": "markdown",
   "metadata": {},
   "source": [
    "In this differential equation, the function $f$ is defined by $f(x,y) = y$\n",
    "\n",
    "We can therefore express our starting condition as:\n",
    "\n",
    "\\begin{equation*}\n",
    "f(x_{0},y_{0}) = f(0,1) = 1 \n",
    "\\end{equation*} \n",
    "\n",
    "In order to find the next value of $y$, we need to multipy the current $y$ by the change in $x$:\n",
    "\n",
    "\\begin{equation*}\n",
    "\\Delta x * f(x_0,y_{0}) = 1 * 1 = 1\n",
    "\\end{equation*}\n",
    "\n",
    "This is like saying that from $x=0$ until $x=1$, we have a constant slope of 1.\n",
    "\n",
    "Putting it all together:\n",
    "\n",
    "\\begin{equation*}\n",
    "y_{1} = y_{0} + \\Delta x * f(x_{0},y_{0})\n",
    "\\end{equation*}\n",
    "\n",
    "\\begin{equation*}\n",
    "= 1 + 1 * 1 = 2\n",
    "\\end{equation*}\n",
    "\n",
    "Repeat the above steps by hand to find the Euler solution for $y_2$, $y_3$, and $y_4$. Fill in the values in the table below."
   ]
  },
  {
   "cell_type": "code",
   "execution_count": 16,
   "metadata": {},
   "outputs": [],
   "source": [
    "# x_n      y_n     f(x_n,y_n)      y_n+1\n",
    "# 0         1       1              2\n",
    "# 1         \n",
    "# 2         \n",
    "# 3         "
   ]
  },
  {
   "cell_type": "markdown",
   "metadata": {},
   "source": [
    "It's tedious to do this by hand. Below, I have a template for a for-loop that can help. Fill it in, run your code, and verify that you are getting the same answers as you did above."
   ]
  },
  {
   "cell_type": "code",
   "execution_count": null,
   "metadata": {},
   "outputs": [],
   "source": [
    "import numpy as np\n",
    "\n",
    "y = np.zeros() # fill in the parentheses with the number of values of y that you will have at the end\n",
    "y[0] = # fill in the initial value of y\n",
    "deltaX = # fill in this value\n",
    "\n",
    "for x in range(): # fill in the parentheses with the number of desired iterations\n",
    "    y[x+1] = # fill in \n",
    "    \n",
    "print(y)"
   ]
  },
  {
   "cell_type": "markdown",
   "metadata": {},
   "source": [
    "Let's see how close this is to the real (analytical) solution. \n",
    "\n",
    "Use the **_numpy_** package to make a 1-dimensional array of the values you calculated above, and call it *yHat*. "
   ]
  },
  {
   "cell_type": "code",
   "execution_count": 2,
   "metadata": {},
   "outputs": [],
   "source": [
    "# Your code here\n"
   ]
  },
  {
   "cell_type": "markdown",
   "metadata": {},
   "source": [
    "Now you are going to need to create an array of the first 4 values of the analytical solution: $y = e^x$\n",
    "\n",
    "The **_numpy_** package has an **exp()** function which returns the value of $e^x$. This function can also work with a vector of numbers as well, returning $e^x$ for each element.\n",
    "\n",
    "Create an x vector with the values 0 through 3, and use **np.exp()** to save the calculated values in a vector y."
   ]
  },
  {
   "cell_type": "code",
   "execution_count": 6,
   "metadata": {},
   "outputs": [],
   "source": [
    "# Your code here"
   ]
  },
  {
   "cell_type": "markdown",
   "metadata": {},
   "source": [
    "Let's see how good the Euler method actually is. We can express this in terms of mean squared error (MSE). This is the average of the sum of squared differencess between y and yHat:\n",
    "\n",
    "\\begin{equation*}\n",
    "MSE = \\frac{1}{n}\\sum_{i=1}^n (y_i-yHat_i)^2\n",
    "\\end{equation*}"
   ]
  },
  {
   "cell_type": "code",
   "execution_count": null,
   "metadata": {},
   "outputs": [],
   "source": [
    "# Your code here"
   ]
  },
  {
   "cell_type": "markdown",
   "metadata": {},
   "source": [
    "When done correctly, your MSE should be approximately 39.5. Not so great, right? If you look at the differences between y and yHat, you'll see that the error grows larger with each point. This implies that reducing the step size should also reduce the error. Let's try reducing the change in x to 0.5. In the cell below, change the Euler's solution code that you wrote to have steps of 0.5 instead of steps of 1. \n",
    "\n",
    "Hints:\n",
    "- $\\Delta x$ is now 0.5, but the **range()** function can only step up in integer intervals. Use **np.arange(a, b, c)** to create an array that goes from a to b in steps of c (remember that this is non-inclusive). Call this x.\n",
    "- The length of both your x and y vectors will change. You may find it helpful to define the x vector first, and use the **len()** function to dictate the size of your y vector."
   ]
  },
  {
   "cell_type": "code",
   "execution_count": 21,
   "metadata": {},
   "outputs": [],
   "source": [
    "yHat = np.zeros() # fill in the parentheses with the number of values of y that you will have at the end\n",
    "yHat[0] = # fill in the initial value of y\n",
    "deltaX = # fill in this value\n",
    "\n",
    "for x : # fill in the definition of the for-loop\n",
    "    yHat[x+1] = # fill in \n",
    "    \n",
    "print(yHat)"
   ]
  },
  {
   "cell_type": "markdown",
   "metadata": {},
   "source": [
    "Now, let's calculate the MSE. \n",
    "\n",
    "As before, create a new *y* with the analytical solution and compute MSE as above. If done correctly, your new MSE should be about 1.67."
   ]
  },
  {
   "cell_type": "code",
   "execution_count": 7,
   "metadata": {},
   "outputs": [],
   "source": [
    "# your code here"
   ]
  },
  {
   "cell_type": "markdown",
   "metadata": {},
   "source": [
    "Going from a mean squared error of 39.5 to 1.67 is a huge improvement! The key point that you should take away is that decreasing step size will vastly improve the accuracy of Euler's method, and using a loop to do this makes the process far less annoying! \n",
    "\n",
    "Let's use another example with a different differential equation:\n",
    "\n",
    "\\begin{equation*}\n",
    "\\frac{dy}{dx} = -2y\n",
    "\\end{equation*}\n",
    "\n",
    "Where $y(0) = 3$.\n",
    "\n",
    "The analytical solution to this equation is:\n",
    "\n",
    "\\begin{equation*}\n",
    "y(x) = 3e^{-2x}\n",
    "\\end{equation*}\n",
    "\n",
    "Write for-loop that will calculate the Euler's solution and the analytical solution for each value in the given x vector. Plot the analytical solution in blue and the Euler's solution in red.\n",
    "\n",
    "Hints: \n",
    "- You will need to import the matplotlib library because you will be plotting.\n",
    "- You will need to index each element of the x vector in the loop.\n",
    "- You will need to initiate your yHat vector with zeros outside of the loop."
   ]
  },
  {
   "cell_type": "code",
   "execution_count": 3,
   "metadata": {},
   "outputs": [],
   "source": [
    "import matplotlib.pyplot as plt\n",
    "import numpy as np\n",
    "\n",
    "# define step size\n",
    "deltaX = # fill me in\n",
    "\n",
    "# define x \n",
    "x = # fill me in\n",
    "\n",
    "# define true y\n",
    "y = # fill me in\n",
    "\n",
    "# define initial y\n",
    "yHat = # fill me in\n",
    "yHat[0] = # fill me in\n",
    "\n",
    "# your for-loop goes here\n",
    "\n",
    "\n",
    "# plot the results\n",
    "plt.plot(x, y, x, yHat)"
   ]
  },
  {
   "cell_type": "markdown",
   "metadata": {},
   "source": [
    "#### Well done! You just used a for-loop to do a bunch of calculations for you and all you had to do what give it the right instructions.\n",
    "\n",
    "### Using conditionals and loops together\n",
    "\n",
    "Let's move onto something new:\n",
    "\n",
    "In Python the “%” has two different uses. When used in a math problem, it is used to represent *modulus*. The modulus of a number is the remainder left when you divide two numbers. Because of this, it can be used to determine if one number is a factor of another.\n",
    "\n",
    "In the cell below, use the modulus in the conditional statement to fill in the template. The resulting code should loop from 2 to x and print whether each number *x* is divisible by each of the numbers from *i* that range from 2 to *x*."
   ]
  },
  {
   "cell_type": "code",
   "execution_count": null,
   "metadata": {},
   "outputs": [],
   "source": [
    "x = 8\n",
    "\n",
    "for i in range(2,x):\n",
    "    if : # fill in the if statement with the modulus\n",
    "        print('The number',  , 'is divisible by', )     # fill in variables x and i as appropriate\n",
    "    else:\n",
    "        print('The number', , 'is not divisible by', )  # fill in variables x and i as appropriate"
   ]
  },
  {
   "cell_type": "markdown",
   "metadata": {},
   "source": [
    "Right now, the code is not especially useful. We can easily change it into a script that can tell you whether or not a number is prime. In the space below, alter the code in the following ways:\n",
    "- Rather than printing out a statement at each step of the loop, have a single statement printed at the end that reads \"The number X is a prime number\" or \"The number X is not a prime number\" as appropriate.\n",
    "\n",
    "\n",
    "- In order to find out whether any factors have been found, create a variable that is initialized to be 0, but changes its value to 1 if a factor has been found.\n",
    "\n",
    "\n",
    "- In order to test your code completely, test it with x values of both 11 and 8."
   ]
  },
  {
   "cell_type": "code",
   "execution_count": 18,
   "metadata": {},
   "outputs": [],
   "source": [
    "# Your code here"
   ]
  },
  {
   "cell_type": "markdown",
   "metadata": {},
   "source": [
    "Assessing whether or not a number is prime, especially using the algorithim above, is not very efficient. (Fun fact: nearly all of computer security and encryption is based on this fact!) You can test this for yourself by using your code to determine if 100992929 is a prime number."
   ]
  },
  {
   "cell_type": "code",
   "execution_count": null,
   "metadata": {},
   "outputs": [],
   "source": [
    "from time import time\n",
    "t0 = time()\n",
    "x = 100992929\n",
    "\n",
    "# Your code here\n",
    "\n",
    "t1 = time()\n",
    "print('RunTime: ',t1-t0)"
   ]
  },
  {
   "cell_type": "markdown",
   "metadata": {},
   "source": [
    "One way of improving the efficiency of the code, is to stop once it has found a factor. The **_break_** statement will stop a for-loop once a condition is met. Try your code with the number 100992920, and add a break once a first factor is found. Using **time()**, write a comment about how much time was saved (i.e. percent decrease of runtime)."
   ]
  },
  {
   "cell_type": "code",
   "execution_count": 22,
   "metadata": {},
   "outputs": [],
   "source": [
    "from time import time\n",
    "t0 = time()\n",
    "x = 100992929\n",
    "\n",
    "# Your code here\n",
    "\n",
    "t1 = time()\n",
    "print('RunTime: ',t1-t0)\n",
    "# Answer:"
   ]
  },
  {
   "cell_type": "markdown",
   "metadata": {},
   "source": [
    "### While loops\n",
    "\n",
    "Sometimes, we don't know in advance the number of iterations we will need to perform. Fortunately, there is another kind of loop that will keep computing *while* some logical condition is met. Not surprisingly, it is called a while-loop.\n",
    "\n",
    "<img src=\"image2.jpeg\" alt=\"drawing\" width=\"250\"/>\n",
    "\n",
    "Be very careful with while loops - a small slip up can make a loop that will run forever and crash your Jupyter Notebook!\n",
    "\n",
    "Consider the differences between these two loops (do not run either):"
   ]
  },
  {
   "cell_type": "markdown",
   "metadata": {},
   "source": [
    "```python\n",
    "x = 0\n",
    "while x < 100:\n",
    "    x = x + 1\n",
    "```\n",
    "\n",
    "Versus:\n",
    "\n",
    "```python\n",
    "x = 0\n",
    "while x < 100:\n",
    "    y = x + 1\n",
    "```"
   ]
  },
  {
   "cell_type": "markdown",
   "metadata": {},
   "source": [
    "In the first case, the loop will start at 0 and add 1 to x each time until it reaches 100. In the cell below, write a comment to explain why the second example will never end."
   ]
  },
  {
   "cell_type": "code",
   "execution_count": 35,
   "metadata": {},
   "outputs": [],
   "source": [
    "# your comment here"
   ]
  },
  {
   "cell_type": "markdown",
   "metadata": {},
   "source": [
    "#### While loops are more general than for-loops and are typicallty used when you don't know how many calculations you need to make."
   ]
  },
  {
   "cell_type": "markdown",
   "metadata": {},
   "source": [
    "### Writing your own functions\n",
    "\n",
    "So far, you have had practice using Python's built-in functions and downloading different packages and using those functions. However, what if you have a really specific problem you want to fix that no package or library can help you with? You make your own! Functions are helpful because they execute a certain piece of code, so you don't have to keep writing it everytime you want to do use it.\n",
    "\n",
    "Here is an example of how to make an adding function:\n",
    "\n",
    "```python\n",
    "def my_function(parameter1, parameter2):\n",
    "    total = parameter1 + parameter2\n",
    "    return total\n",
    "```\n",
    "        \n",
    "Where:\n",
    "- **_def_** defines the variable as a function.\n",
    "- ***my_function*** defines the name of the function.\n",
    "- **_(parameter1, parameter2)_** are the two parameters that must be passed in the function. Note: a function may require more or fewer parameters. We are simply using two as an example.\n",
    "- **_total_** is the variable set to the sum of *paramter1*, and *parameter2*.\n",
    "- **_return total_** returns the value of **_total_**\n",
    "        \n",
    "To execute this function, just type ***my_function(a,b)*** where a and b are two numbers you want to add.\n",
    "\n",
    "**Challenge**:\n",
    "Fill in the template for the function below. The function will take in an input, *x*, and return all of the prime numbers less than *x*. "
   ]
  },
  {
   "cell_type": "code",
   "execution_count": 5,
   "metadata": {},
   "outputs": [],
   "source": [
    "def findPrime(x):\n",
    "    \n",
    "    # start an empty list of prime numbers\n",
    "    primes = []\n",
    "    \n",
    "    # for each integer i between 2 and x, we are going to see if i has a factor. \n",
    "    # foundFactor is False when no factors have been found, and True when a factor is found\n",
    "    foundFactor = False\n",
    "    \n",
    "    for i in range():   # fill in the parentheses to test every integer from 2 to x\n",
    "        \n",
    "        # This is a nested for-loop. This means for every number i, we will test for factors between 2 and i\n",
    "        for j in range():  # fill in the parentheses appropriately\n",
    "            \n",
    "            # each time we go through the j loop, we want to set this back to False\n",
    "            foundFactor = False\n",
    "            \n",
    "            if : # fill in the conditional using the modulus\n",
    "                foundFactor = True\n",
    "                break\n",
    "            \n",
    "        # the indentation is very important here: it is in line with the j loop meaning this will only run when\n",
    "        # the j loop is done. This means that if foundFactor is False, the number is prime and we will add it\n",
    "        # to our list of prime numbers.\n",
    "        if foundFactor is False:\n",
    "            primes.append(i)\n",
    "        \n",
    "    return primes\n",
    "\n",
    "\n",
    "# now, test your function by asking it to return all of the prime numbers < 50\n"
   ]
  },
  {
   "cell_type": "markdown",
   "metadata": {},
   "source": [
    "#### Great job today! \n",
    "\n",
    "Don't forget to download your notebook as a PDF and upload it to Lyceum for grading!"
   ]
  }
 ],
 "metadata": {
  "kernelspec": {
   "display_name": "Python 3",
   "language": "python",
   "name": "python3"
  },
  "language_info": {
   "codemirror_mode": {
    "name": "ipython",
    "version": 3
   },
   "file_extension": ".py",
   "mimetype": "text/x-python",
   "name": "python",
   "nbconvert_exporter": "python",
   "pygments_lexer": "ipython3",
   "version": "3.7.7"
  }
 },
 "nbformat": 4,
 "nbformat_minor": 2
}
