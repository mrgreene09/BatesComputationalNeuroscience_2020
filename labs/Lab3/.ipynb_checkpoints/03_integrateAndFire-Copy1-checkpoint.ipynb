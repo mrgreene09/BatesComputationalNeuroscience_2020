{
 "cells": [
  {
   "cell_type": "markdown",
   "metadata": {},
   "source": [
    "## <span style=\"color:black\">Integrate and Fire</span>\n",
    "\n",
    "Implement a simulation of an integrate-and-fire neuron that is injected with varying levels of current. Run each simulation for 500 ms in time increments of 0.1 ms with the membrane starting at its resting potential of -70 mV, and the current pulse starting 100 ms into the simulation and continuing for 300 ms. Assume that the 1.52 nA current pulse is above threshold and will cause spiking. You may use the following parameter values for your simulation:\n",
    "\n",
    "\n",
    "\\begin{equation*}\n",
    "R_m = 10M\\Omega\n",
    "\\end{equation*}\n",
    "\\begin{equation*}\n",
    "\\tau_m = 10ms\n",
    "\\end{equation*}\n",
    "\\begin{equation*}\n",
    "V_{threshold} = -55mV\n",
    "\\end{equation*}\n",
    "\\begin{equation*}\n",
    "V_{reset} = -75mV\n",
    "\\end{equation*}\n",
    "\\begin{equation*}\n",
    "V_{spike} = +20mV\n",
    "\\end{equation*}\n",
    "\n",
    "In class, we implemented the equations and didn't see any spikes. The Integrate and Fire model is a LIE because it only fires when we add the spikes ourselves. To add spikes into our simulation we will need to:\n",
    "- check whether the current voltage value is above the threshold value\n",
    "- if so, (and it is not equal to $V_{spike}$), then the next voltage value should be $V_{spike}$.\n",
    "- however, if it is currently at $V_{spike}$, then the next voltage value should be $V_{reset}$.\n",
    "\n",
    "In the code block below, use the parts that you have built from class to fill in the simulation."
   ]
  },
  {
   "cell_type": "code",
   "execution_count": null,
   "metadata": {},
   "outputs": [],
   "source": [
    "# Step 1: import all necessary libraries\n",
    "import numpy as np\n",
    "import matplotlib.pyplot as plt\n",
    "\n",
    "# Step 2: define variables and parameters\n",
    "\n",
    "# Step 3: Set up the data structures that you will graph. \n",
    "\n",
    "# Step 4: Set up initial conditions\n",
    "# Hint: at t=0, your voltage is equal to your resting potential\n",
    "\n",
    "# Step 5: Implement integrate and fire equation in a for loop\n",
    "for j in range():\n",
    "    # check the voltages and see if we need to change them to Vspike or Vreset\n",
    "    # your simulation here\n",
    "\n",
    "# Plotting the voltage over time\n",
    "plt.figure()\n",
    "plt.plot(XXX, YYY) # fill these in accordingly\n",
    "plt.ylabel('Voltage in mV')\n",
    "plt.xlabel('Time in ms')\n",
    "plt.title('Voltage vs. time')"
   ]
  },
  {
   "cell_type": "markdown",
   "metadata": {},
   "source": [
    "It's also a good idea to add a counter so that we can count the number of \"spikes\" generated. This will be helpful when we calculate the firing rate later."
   ]
  },
  {
   "cell_type": "code",
   "execution_count": null,
   "metadata": {},
   "outputs": [],
   "source": [
    "# Your code here (it's fine to copy-paste from above and then add counter)"
   ]
  },
  {
   "cell_type": "markdown",
   "metadata": {},
   "source": [
    "### Now, it's time to test with multiple current values!\n",
    "\n",
    "So far, we have made our simulated neuron fire to one level of injected current. Below is a template for getting your model to create and test several different currents. \n",
    "\n",
    "We are going to do this using a *nested for loop*. In the outer loop, we will loop through different levels of external stimulation, and for each of these, we will run the integrate and fire simulation at each time step.\n",
    "\n",
    "Put your code into the template to see your graph."
   ]
  },
  {
   "cell_type": "code",
   "execution_count": null,
   "metadata": {},
   "outputs": [],
   "source": [
    "# Step 1: Define your variables and parameters\n",
    "\n",
    "# Step 2: Define stimulation values\n",
    "plotNum = 0\n",
    "IstimVector = np.array([1.4, 1.44 1.51, 1.54, 1.58, 1.62])\n",
    "\n",
    "\n",
    "# Step 3: loop through stimulation values\n",
    "for stim in range():  # fill the parentheses in accordingly\n",
    "    plotNum = += 1 # increments the plot number to make the graphs come out (graphs start counting at 1)\n",
    "    \n",
    "    # Set up the data structures that you are going to graph\n",
    "    \n",
    "    # Set the initial values\n",
    "    \n",
    "    # Define the stimulus according to the \"stim-th\" current value\n",
    "    \n",
    "    # In this inner loop, your simulation runs as usual\n",
    "    for j in range(): # fill the parentheses in accordingly\n",
    "        \n",
    "        # Check present voltage value and see if we need to change them to Vspike or Vreset\n",
    "        \n",
    "        # Rest of simulation runs as in class\n",
    "        \n",
    "    \n",
    "    # Step 4: Make plots\n",
    "    plt.figure(figsize=(80,3))\n",
    "    plt.subplot(2,len(IstimVector),plotNum)\n",
    "    plt.plot(XXX,YYY) # fill this in accordingly\n",
    "    \n",
    "    # nothing needs to be changed here, but can you follow what is being done?\n",
    "    if plotNum == 1:\n",
    "        plt.title('Voltage vs time')\n",
    "    elif plotNum == len(IstimVector):\n",
    "        plt.xlabel('Time in msec')\n",
    "    plt.ylabel('Voltage in mV') "
   ]
  },
  {
   "cell_type": "markdown",
   "metadata": {},
   "source": [
    "If completed correctly, your graph should look like this:\n",
    "<img src=\"Fig.jpg\" alt=\"drawing\" width=\"600\"/>"
   ]
  },
  {
   "cell_type": "markdown",
   "metadata": {},
   "source": [
    "At this point, we need to compute the firing rate for the neuron. The most straightforward way of doing this is to count up how many spikes occured and to divide by the amount of time the stimulation was on.\n",
    "\n",
    "Note: **Not** the length of the entire simulation (can you see why?).\n",
    "\n",
    "In the space below, copy and paste your simulation from above. Add a variable to count the number of spikes in the threshold conditional and a line beneath each integration loop to calculate the rates. Save each of the rates in a vector and plot them versus their corresponding currents."
   ]
  },
  {
   "cell_type": "code",
   "execution_count": null,
   "metadata": {},
   "outputs": [],
   "source": [
    "# your code here"
   ]
  },
  {
   "cell_type": "markdown",
   "metadata": {},
   "source": [
    "Great work! You have implemented your first neural model! Let's take some time to reflect on what you have learned. Answer the following questions in the cells below:\n",
    "\n",
    "What is the relationship between injected current and firing rate?"
   ]
  },
  {
   "cell_type": "code",
   "execution_count": 170,
   "metadata": {},
   "outputs": [],
   "source": [
    "# Answer:"
   ]
  },
  {
   "cell_type": "markdown",
   "metadata": {},
   "source": [
    "What will happen when we increase the current even more? Will the firing rate ever stop increasing? Why/why not?"
   ]
  },
  {
   "cell_type": "code",
   "execution_count": null,
   "metadata": {},
   "outputs": [],
   "source": [
    "# Answer:"
   ]
  },
  {
   "cell_type": "markdown",
   "metadata": {},
   "source": [
    "How realistic is this model of a neuron? Name at least one aspect of the model that seems realistic, and one that is contrived. For the aspects that you find lacking, can you think of ways of making it more biologically plausible?"
   ]
  },
  {
   "cell_type": "code",
   "execution_count": 171,
   "metadata": {},
   "outputs": [],
   "source": [
    "# Answer:"
   ]
  },
  {
   "cell_type": "markdown",
   "metadata": {},
   "source": [
    "Export this file as a PDF and upload to Lyceum for grading. Nice work today!"
   ]
  }
 ],
 "metadata": {
  "kernelspec": {
   "display_name": "Python 3",
   "language": "python",
   "name": "python3"
  },
  "language_info": {
   "codemirror_mode": {
    "name": "ipython",
    "version": 3
   },
   "file_extension": ".py",
   "mimetype": "text/x-python",
   "name": "python",
   "nbconvert_exporter": "python",
   "pygments_lexer": "ipython3",
   "version": "3.7.7"
  }
 },
 "nbformat": 4,
 "nbformat_minor": 2
}
