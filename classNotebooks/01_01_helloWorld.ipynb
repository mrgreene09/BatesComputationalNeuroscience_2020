{
 "cells": [
  {
   "cell_type": "markdown",
   "metadata": {},
   "source": [
    "# Introduction to Python with Jupyter Notebooks\n",
    "\n",
    "The purpose of this exercise is to get you comfortable with the core functionality of Jupyter notebooks. In these notebooks, Python code and plan text co-exist. This can be a great way to explain your thought process!  \n",
    "\n",
    "Plain text is written in [Markdown](https://guides.github.com/features/mastering-markdown/). Markdown is a powerful, platform-independent method for typesetting. Fortunately, it's also pretty easy to learn!\n",
    "\n",
    "The cell below is written in Markdown. Double click on it to enter edit mode, and hit Shift-Enter to run it. You will see how it renders."
   ]
  },
  {
   "cell_type": "markdown",
   "metadata": {},
   "source": [
    "# Big heading\n",
    "## Medium heading\n",
    "### Small heading\n",
    "\n",
    "It's easy to write in **bold** as well as in *italics*.\n",
    "\n",
    "Writing a list is easy as:\n",
    "* One\n",
    "* Two\n",
    "* Three\n",
    "* Four\n",
    "\n",
    "Links to [awesome content](https://twitter.com/ok_girlfriend/status/1288933799347265536) are pretty easy to do. "
   ]
  },
  {
   "cell_type": "markdown",
   "metadata": {},
   "source": [
    "All cells can be run by hitting Shift+Enter. When the cell contains Python code, the output of your computation will be displayed below. Try running this cell:"
   ]
  },
  {
   "cell_type": "code",
   "execution_count": 1,
   "metadata": {},
   "outputs": [
    {
     "name": "stdout",
     "output_type": "stream",
     "text": [
      "Hello, world!\n"
     ]
    }
   ],
   "source": [
    "print('Hello, world!')"
   ]
  },
  {
   "cell_type": "markdown",
   "metadata": {},
   "source": [
    "You can add a new cell using the Insert menu. Insert a cell below this one and print out anything you'd like."
   ]
  },
  {
   "cell_type": "code",
   "execution_count": 2,
   "metadata": {},
   "outputs": [
    {
     "name": "stdout",
     "output_type": "stream",
     "text": [
      "Python is cool!\n"
     ]
    }
   ],
   "source": [
    "print('Python is cool!')"
   ]
  },
  {
   "cell_type": "markdown",
   "metadata": {},
   "source": [
    "## Basic Math\n",
    "Python can be used as a calculator. The characters for basic operations are pretty straightforward:\n",
    "\n",
    "| Character | Operation|\n",
    "|---|----------|\n",
    "| + | Additon |\n",
    "| - | Subtraction |\n",
    "| * | Multiplication |\n",
    "| / | Division |\n",
    "| ** | Exponentiation |\n",
    "\n",
    "Add cells below to try out the following: \n",
    "* Add two numbers of your choice.\n",
    "* Divide two numbers of your choice.\n",
    "* Find the value of 5 squared.\n"
   ]
  },
  {
   "cell_type": "markdown",
   "metadata": {},
   "source": [
    "**Challenge**\n",
    "Consider the following code. Try to predict the value of the variable *d* at the end. Then type and run the code in a new cell below. Note how Python automatically uses the correct order of mathematical operations.\n",
    "```python\n",
    "import numpy as np\n",
    "a = 12\n",
    "b = (a*4/a)**2\n",
    "c = (12/np.sqrt(b)) + 2\n",
    "d = c*c + 1\n",
    "```"
   ]
  },
  {
   "cell_type": "markdown",
   "metadata": {},
   "source": [
    "Type in prediction about d here (double click me):"
   ]
  },
  {
   "cell_type": "code",
   "execution_count": 1,
   "metadata": {},
   "outputs": [],
   "source": [
    "# type in the code from above and run to check"
   ]
  },
  {
   "cell_type": "markdown",
   "metadata": {},
   "source": [
    "## Packages\n",
    "Python has only a limited number of built-in functions. However, people have written libraries of code that will enable us to do lots of fun things. The packages we will used most frequently in this course are:\n",
    "* [numpy](https://numpy.org/) for doing mathematical calculations\n",
    "* [matplotlib](https://matplotlib.org/) for creating graphs and other plots\n",
    "\n",
    "If you want to use a package, you must first import it. Here is an example numpy's sqrt() function. Run this cell."
   ]
  },
  {
   "cell_type": "code",
   "execution_count": null,
   "metadata": {},
   "outputs": [],
   "source": [
    "import numpy\n",
    "numpy.sqrt(16)"
   ]
  },
  {
   "cell_type": "markdown",
   "metadata": {},
   "source": [
    "That's fine, but it's kind of awkward to have to type \"numpy\" as many times as you might need in a long script. One common convention is to give a package a shorter name like this. When you run this cell, you will see that it has the same functionality as the first."
   ]
  },
  {
   "cell_type": "code",
   "execution_count": null,
   "metadata": {},
   "outputs": [],
   "source": [
    "import numpy as np\n",
    "np.sqrt(16)"
   ]
  },
  {
   "cell_type": "markdown",
   "metadata": {},
   "source": [
    "I like to think of packages as suitcases that are pre-packed for different kinds of trips. Just as you wouldn't normally bring your ski gear on a beach vacation, I recommend only importing the packages that you will need. \n",
    "\n",
    "On the same principle, if you know that you will only need one function from a package, you can import and call just that function. Run the cell below to see this in action:"
   ]
  },
  {
   "cell_type": "code",
   "execution_count": null,
   "metadata": {},
   "outputs": [],
   "source": [
    "from numpy import sqrt\n",
    "sqrt(16)"
   ]
  },
  {
   "cell_type": "markdown",
   "metadata": {},
   "source": [
    "Nice work today! Please download this notebook as a PDF and upload to Lyceum page for grading."
   ]
  }
 ],
 "metadata": {
  "kernelspec": {
   "display_name": "Python 3",
   "language": "python",
   "name": "python3"
  },
  "language_info": {
   "codemirror_mode": {
    "name": "ipython",
    "version": 3
   },
   "file_extension": ".py",
   "mimetype": "text/x-python",
   "name": "python",
   "nbconvert_exporter": "python",
   "pygments_lexer": "ipython3",
   "version": "3.7.7"
  }
 },
 "nbformat": 4,
 "nbformat_minor": 4
}
