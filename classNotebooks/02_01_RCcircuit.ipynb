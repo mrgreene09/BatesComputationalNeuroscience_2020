{
 "cells": [
  {
   "cell_type": "markdown",
   "metadata": {},
   "source": [
    "# Resistor-Capcitor (RC) passive neuron model\n",
    "\n",
    "There are two goals to this exercise:\n",
    "\n",
    "- Get some practice with some basic Python tools.\n",
    "- Start building up the component parts that will make the leaky integrate and fire model."
   ]
  },
  {
   "cell_type": "markdown",
   "metadata": {},
   "source": [
    "### Python skill: comments\n",
    "Comments are going to be your best friend. A comment is some text that you insert into your code that can be read by you, but is not read and interpreted by Python. This can be helpful in a number of circumstances:\n",
    "\n",
    "- In order to organize your thinking, I recommend writing out the steps your are going to follow in comments first, before wrangling with the syntax.  \n",
    "- Comments are valuable when collaborating. Because computational problems can be solved in multiple ways, a comment allows your collaborator to understand your thought process.  \n",
    "- Even if you are working alone, you will always be collaborating with *Past You*. Although it seems counterinuitive, it's very easy to stumble across a clever solution that you believe you will remember forever that you forget the next month, week, day, or hour. \n",
    "\n",
    "**Comments are love letters to Future You**\n",
    "\n",
    "How do you make a comment? Easy - just add a *#* character at the beginning of the line! (Fun fact: this character has a technical name, the octothorpe. Y'all want me on your trivia team).\n",
    "\n",
    "Run the cell below to see this in action."
   ]
  },
  {
   "cell_type": "code",
   "execution_count": null,
   "metadata": {},
   "outputs": [],
   "source": [
    "print('This will be printed when you run this.') \n",
    "# print('This will be the secret message between us!')"
   ]
  },
  {
   "cell_type": "markdown",
   "metadata": {},
   "source": [
    "As you can see from this example, if the octothorpe were removed, the line contains valid Python code and would also be executed. Prove this to yourself by *uncommenting* out the the second line below and running the cell."
   ]
  },
  {
   "cell_type": "code",
   "execution_count": null,
   "metadata": {},
   "outputs": [],
   "source": [
    "print('This will be printed when you run this.') \n",
    "# print('This will be the secret message between us!')"
   ]
  },
  {
   "cell_type": "markdown",
   "metadata": {},
   "source": [
    "This is very helpful when you are looking for errors in your code. If you suspect that a certain line is a problem, you can comment it out and see how the code runs without it!\n",
    "\n",
    "Let's give you an exercise in problem solving and using comments. Below is some Python code. Some of it will be familiar from the first lab, and some of it will be new. Your task is to write a comment above each line explaining what each line does. Then, at the top of the code, write a comment that contains a single sentence about the function of this code as a whole. Feel free to insert additional cells into this notebook to try out single lines of code."
   ]
  },
  {
   "cell_type": "code",
   "execution_count": 13,
   "metadata": {},
   "outputs": [
    {
     "name": "stdout",
     "output_type": "stream",
     "text": [
      "[ 4 16 36]\n"
     ]
    }
   ],
   "source": [
    "import numpy as np\n",
    "\n",
    "x = np.arange(1,11)\n",
    "y = x**2\n",
    "z = y[y%2==0]\n",
    "answer = z[np.where(z<50)]\n",
    "print(answer)"
   ]
  },
  {
   "cell_type": "markdown",
   "metadata": {},
   "source": [
    "### Python skills: practice with loops\n",
    "\n",
    "Let's say that we want to flip a fair coin 50 times and print the number of Heads. Let's write a small Python program that will do this for us. To get you started, I will give you a hint: **np.random.rand()** will produce a random number between 0 and 1 (uniformly distributed). This means that half of the time, this number will be <0.5, and the other half of the time it will be >= 0.5. \n",
    "\n",
    "**Discussion**\n",
    "With your group, consider how to approach the problem."
   ]
  },
  {
   "cell_type": "code",
   "execution_count": null,
   "metadata": {},
   "outputs": [],
   "source": []
  },
  {
   "cell_type": "markdown",
   "metadata": {},
   "source": [
    "In the Fibonacci sequence, the *i*th number is the sum of *i-2* and *i-1*. For example, the first few numbers are:\n",
    "1, 1, 2, 3, 5, 8\n",
    "\n",
    "Let's create a program that gives us the first 20 numbers in the series. Fill in the rest of the code below:"
   ]
  },
  {
   "cell_type": "code",
   "execution_count": null,
   "metadata": {},
   "outputs": [],
   "source": [
    "import numpy as np\n",
    "\n",
    "# initialize the data structure that will hold the series\n",
    "fibSeries = np.zeros(20)\n",
    "\n",
    "# set the first two values\n",
    "fibSeries[0] = 1\n",
    "fibSeries[1] = #fill me in accordingly\n",
    "\n",
    "# use a for loop to use the previous values to find the \n",
    "for i in range(#lower, uppper): \n",
    "    fibSeries[#index] = # fill me in\n",
    "        \n",
    "print(fibSeries)"
   ]
  },
  {
   "cell_type": "markdown",
   "metadata": {},
   "source": [
    "### RC passive model of a neuron\n",
    "\n",
    "The first model neuron we will consider is the leaky integrate and fire model. It is based on the simple resistor-capacitor (RC) circuit that you will learn about here, with an extra rule: the model neuron spikes whenever the membrane potential surpasses a threshold. It is a simple and useful model, but ignores the detailed biophysical mechanisms behind spiking. We will get to this in the Hodgkin and Huxley model.\n",
    "\n",
    "Last time, we modeled the resting state of a neuron though the lens of *chemistry* using the GHK equation.\n",
    "\n",
    "The GHK equation is:\n",
    "\n",
    "$$V_{rest} = \\frac{RT}{F} \\ln \\left( \\frac{p_{Na+}[Na+]_o + p_{K+}[K+]_o + p_{Cl-}[Cl-]_i}{p_{Na+}[Na+]_i + p_{K+}[K+]_i + p_{Cl-}[Cl-]_o} \\right)$$\n",
    "\n",
    "Note that the GHK equation gets you a voltage at which **net flow** is 0, but individual ion flows can be non-zero. This means that ions will be flowing into or out of the cell, abolishing the very concentration gradients that set up the voltage difference in the first place! Because of this, cells have to expend energy to keep up their concentration gradients. The primary protein in this system is the **sodium-potassium pump**, which cleaves ATP in order to push sodium and potassium against their gradients.\n",
    "\n",
    "These constant flows are the reason why the ion channels underlying the resting membrane potential are often called \"leak\" channels.\n",
    "\n",
    "Now, let's take a look at the same system thought the lens of physics, specifically electromagnatism!\n",
    "\n",
    "- Concentration gradients are batteries because the separation of ions enables *work*.  \n",
    "- The membrane is a resistor because it allows some ions to flow depending on their *permeability*.  \n",
    "- Conductance, termed *g* because we ran out of letters, is the inverse of resistance $g = 1/R$. \n",
    "\n",
    "From this frame of reference, the GHK equation can be re-written as:\n",
    "\n",
    "$$V_{rest} = \\frac{\\sum g_x E_x}{\\sum g_x}$$  \n",
    "\n",
    "In other words, we can view the resting potential as a weighted sum of Nernst potentials, weighted by each ion's conductance.\n",
    "\n",
    "**Discussion**\n",
    "Imagine explaining these two GHK equations to an Intro Neuroscience student. Discuss with your group how you would show them that they are the same.\n"
   ]
  },
  {
   "cell_type": "markdown",
   "metadata": {},
   "source": [
    "Although neurons have complex, elongated shapes, these models assume all neurons to be spherical cells. The cell membrane provides electrical insulation between the intracellular fluid and extracellular fluid that are two conductive media. This creates a capacitor, a device that accumulates charge across the membrane and therefore has the ability to *integrate* inputs over time. \n",
    "\n",
    "**The main idea is than an external current, $I_e$ will charge up the capacitor and will be reflected by a change in the resting potential, $V_m$**.\n",
    "\n",
    "However, the external current will change $V_m$ very slowly because it takes time to build up charge across a capacitor. The capacitor has a capacitance proportional to the cell’s surface area (A). A cell’s total membrane capacitance ($C_m$) is calculated as follows:\n",
    "$$C_m = c_m A$$\n",
    "\n",
    "where $c_m$ is the *specific membrane capacitance* common to all membranes. It has the value 10 $nF/mm^2$."
   ]
  },
  {
   "cell_type": "markdown",
   "metadata": {},
   "source": [
    "Consider a spherical model neuron of radius 0.04 mm. Calculate the surface area of the neuron in the cell below. Recall that the surface area of a sphere is $A = 4 \\pi r^2$ where r is the radius of the sphere. Hint: $\\pi$ is a function that needs to be imported from the *math* library!"
   ]
  },
  {
   "cell_type": "code",
   "execution_count": null,
   "metadata": {},
   "outputs": [],
   "source": []
  },
  {
   "cell_type": "markdown",
   "metadata": {},
   "source": [
    "Use your surface area to compute the cell's total membrane capacitance ($C_m$) in the cell below."
   ]
  },
  {
   "cell_type": "code",
   "execution_count": null,
   "metadata": {},
   "outputs": [],
   "source": []
  },
  {
   "cell_type": "markdown",
   "metadata": {},
   "source": [
    "Similarly, a neuron's total membrane conductance ($G_m$) is also proportional to surface area: $G_m = g_m A$ where $g_m$ is the specific membrane conductance. Here, we assume this to be 0.5 $\\mu S/ mm^2$.\n",
    "\n",
    "In the cell below, calculate the total membrane conductance $G_m$ and the total membrane resistance $R_m$. (Hint: remember what relationship resistance and confuctance have to one other.)"
   ]
  },
  {
   "cell_type": "code",
   "execution_count": null,
   "metadata": {},
   "outputs": [],
   "source": []
  },
  {
   "cell_type": "markdown",
   "metadata": {},
   "source": [
    "With these in hand, we can calculate the *time constant* of the membrane. The time constant represents how quickly the membrane will respond to a change in external stimulation, and is given by the equation: $\\tau_m = R_m C_m$.\n",
    "\n",
    "In the cell below, calculate the time constant of the membrane."
   ]
  },
  {
   "cell_type": "code",
   "execution_count": null,
   "metadata": {},
   "outputs": [],
   "source": []
  },
  {
   "cell_type": "markdown",
   "metadata": {},
   "source": [
    "When a neuron is not at its resting potential, a *leak current* is generated from the movement of ions across the membrane to restore the resting potential:\n",
    "\n",
    "$$I_L = \\frac{V_m - E_L}{R_m}$$\n",
    "\n",
    "Where $V_m$ is the present membrane potential and $E_L$ is the reversal potential of the leak channels (i.e. the neuron's resting potential). The observant reader will recognize this equation as Ohm's Law.\n",
    "\n",
    "In the cell below, calculate the leak current of a cell that has been depolarized from a resting potential of -65 $mV$ to a potential of -20 $mV$."
   ]
  },
  {
   "cell_type": "code",
   "execution_count": null,
   "metadata": {},
   "outputs": [],
   "source": []
  },
  {
   "cell_type": "markdown",
   "metadata": {},
   "source": [
    "**Discussion:**\n",
    "Describe the leak current in the language of chemistry."
   ]
  },
  {
   "cell_type": "markdown",
   "metadata": {},
   "source": [
    "The second type of current that we need to consider is the current through the capacitor. This is described by the following equation:\n",
    "\n",
    "$$I_c = C_m \\frac{dV_m}{dt}$$\n",
    "\n",
    "In other words, the current through the capacitor is related to how much charge the membrane can store ($C_m$) as well as how much the membrane potential is currently changing. \n",
    "\n",
    "Let's say that a neuron is depolarizing at a rate of 10 mV/s. Use the cell below to calculate $I_c$."
   ]
  },
  {
   "cell_type": "code",
   "execution_count": null,
   "metadata": {},
   "outputs": [],
   "source": []
  },
  {
   "cell_type": "markdown",
   "metadata": {},
   "source": [
    "Finally, by Kirchhoff's rules, we know that all of the currents in the circuit sum:\n",
    "\n",
    "$$ I_e = I_L + I_c$$\n",
    "\n",
    "Given this, how much external current, $I_e$ did we inject into the system?"
   ]
  },
  {
   "cell_type": "code",
   "execution_count": null,
   "metadata": {},
   "outputs": [],
   "source": []
  },
  {
   "cell_type": "markdown",
   "metadata": {},
   "source": [
    "Excellent work! Please submit this PDF on Lyceum for grading!"
   ]
  }
 ],
 "metadata": {
  "kernelspec": {
   "display_name": "Python 3",
   "language": "python",
   "name": "python3"
  },
  "language_info": {
   "codemirror_mode": {
    "name": "ipython",
    "version": 3
   },
   "file_extension": ".py",
   "mimetype": "text/x-python",
   "name": "python",
   "nbconvert_exporter": "python",
   "pygments_lexer": "ipython3",
   "version": "3.7.7"
  }
 },
 "nbformat": 4,
 "nbformat_minor": 4
}
