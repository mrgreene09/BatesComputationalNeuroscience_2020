{
 "cells": [
  {
   "cell_type": "markdown",
   "metadata": {},
   "source": [
    "# Spike-Triggered Average, Part 2\n",
    "\n",
    "Yesterday, we explored the concept of the spike-triggered average and you got some experience creating your own from random data. Today, we are going to extend this discussion by shifting towards real data, using the H1 neuron dataset.\n",
    "\n",
    "The H1.mat file in this lab contains data collected from de Ruyter van Stevenick from a fly's H1 visual neuron responding to a white noise visual motion. Data were sampled at 500 Hz (in other words, $\\Delta t = 2ms$). \n",
    "\n",
    "Within the file, $rho$ is a boolean vector indicating spike times (1 = spike, 0 = no spike), and $stim$ indicates the intensity of the stimulus (in this case, the horizontal speed of moving dots).\n",
    "\n",
    "The fly has two H1 neurons, one in each hemisphere, and they are located in the Lobula plate in the diagram above. These neurons are very large making them easy to record from. Why are they called H1 neurons? Because they detect movement in the horizontal direction!\n",
    "\n",
    "Run the cell below to load the data."
   ]
  },
  {
   "cell_type": "code",
   "execution_count": null,
   "metadata": {},
   "outputs": [],
   "source": [
    "# Importing packages to load data\n",
    "import scipy.io as sio\n",
    "\n",
    "# Load the file and parse the variables\n",
    "H1 = sio.loadmat('H1.mat')\n",
    "rho = H1['rho']\n",
    "stim = H1['stim']\n",
    "\n",
    "# Making them one dimensional to do further calculations\n",
    "rho = rho[:,0]\n",
    "stim = stim[:,0]"
   ]
  },
  {
   "cell_type": "markdown",
   "metadata": {},
   "source": [
    "Plot the first 1000 points of the stim vector versus time to see how the stimulus randomly varies across time. Remember that the recording was done at 500 Hz."
   ]
  },
  {
   "cell_type": "code",
   "execution_count": null,
   "metadata": {},
   "outputs": [],
   "source": []
  },
  {
   "cell_type": "markdown",
   "metadata": {},
   "source": [
    "Although you will be calculating the STA yourself in lab, today I am providing it to you in a file. The first line  reads in the file. Complete the rest of the plotting code to plot the STA over time."
   ]
  },
  {
   "cell_type": "code",
   "execution_count": null,
   "metadata": {},
   "outputs": [],
   "source": [
    "# import necessary packages\n",
    "import numpy as np\n",
    "import matplotlib.pyplot as plt\n",
    "\n",
    "# load the data\n",
    "STA = np.load('STA.npy')\n",
    "\n",
    "# create the time vector from -300 to 0 in steps of 2\n",
    "timeVec = # fill this in\n",
    "\n",
    "# create the plot\n",
    "plt.figure()\n",
    "plt.plot(timeVec, STA)\n",
    "plt.title('Spike-triggered average')\n",
    "plt.xlabel(\"\") # fill me in\n",
    "plt.ylabel(\"\") # fill me in"
   ]
  },
  {
   "cell_type": "markdown",
   "metadata": {},
   "source": [
    "In your readings for today, you learned that if you convolve the STA with the stimulus, you can approximate the firing rate. Let's try that here using the fast and easy **np.convolve()** function. I recommend using the \"same\" method. Call the resulting vector approxFiringRate."
   ]
  },
  {
   "cell_type": "code",
   "execution_count": null,
   "metadata": {},
   "outputs": [],
   "source": []
  },
  {
   "cell_type": "markdown",
   "metadata": {},
   "source": [
    "Right now, your new variable is continuous, while the spike train (rho) is binary. We will be creating a binary spike train tomorrow. In the meantime, fill in the code below to plot the second 1000 points of rho and the second 1000 points of your approximated firing rate. Is your approximated rate higher when your neuron was actually spiking more? "
   ]
  },
  {
   "cell_type": "code",
   "execution_count": null,
   "metadata": {},
   "outputs": [],
   "source": [
    "xAxis = np.arange(1000)\n",
    "\n",
    "plt.figure()\n",
    "plt.subplot(1,2,1)\n",
    "plt.plot(xAxis, rho[]) # fill in brackets\n",
    "plt.subplot(1,2,2)\n",
    "plt.plot(xAxis, approxFiringRate[]) # fill in brackets"
   ]
  },
  {
   "cell_type": "markdown",
   "metadata": {},
   "source": [
    "Let's go the other way and work to reconstruct the stimulus. Convolve the spike-triggered average with the spike train (rho). Call your resulting variable stimReconstruct. As before, fill in the code snippet below to plot the second 1000 points of the stimulus and the second 1000 points of the stimulus reconstruction."
   ]
  },
  {
   "cell_type": "code",
   "execution_count": null,
   "metadata": {},
   "outputs": [],
   "source": [
    "# convolve the STA with the spike train\n",
    "stimReconstruct = # fill me in\n",
    "\n",
    "xAxis = np.arange(1000)\n",
    "\n",
    "# fill in figure below\n",
    "plt.figure()\n",
    "plt.subplot(1,2,1)\n",
    "plt.plot(xAxis, stim[]) # fill in brackets\n",
    "plt.subplot(1,2,2)\n",
    "plt.plot(xAxis, stimReconstruct[]) # fill in brackets"
   ]
  },
  {
   "cell_type": "markdown",
   "metadata": {},
   "source": [
    "We can check the overall stimilarity of the stimulus and its reconstruction using correlation. The Pearson correlation coefficient is implemented in **np.corrcoef()**. The output of this function is a 2x2 matrix showing the correlations between all variables. Because we are not interested in the correlation between any variable and itself, the coefficient value we want is stored in the first row, second column of the matrix."
   ]
  },
  {
   "cell_type": "code",
   "execution_count": null,
   "metadata": {},
   "outputs": [],
   "source": [
    "# compute the correlation between stim and stimReconstruct\n",
    "\n",
    "# extract the coefficient from the first row and second column"
   ]
  },
  {
   "cell_type": "markdown",
   "metadata": {},
   "source": [
    "Nice work today! Please upload this work to Lyceum."
   ]
  }
 ],
 "metadata": {
  "kernelspec": {
   "display_name": "Python 3",
   "language": "python",
   "name": "python3"
  },
  "language_info": {
   "codemirror_mode": {
    "name": "ipython",
    "version": 3
   },
   "file_extension": ".py",
   "mimetype": "text/x-python",
   "name": "python",
   "nbconvert_exporter": "python",
   "pygments_lexer": "ipython3",
   "version": "3.7.7"
  }
 },
 "nbformat": 4,
 "nbformat_minor": 4
}
