{
 "cells": [
  {
   "cell_type": "markdown",
   "metadata": {},
   "source": [
    "# Spike Train Analysis\n",
    "\n",
    "In this exercise, we will be continuing with the ferret V1 dataset that was introduced during Monday's notebook. Here, you will express each condition as both a spike count rate as well as a spike density rate and compare and contrast the results. You will also practice computing Fano factor and coefficient of variation (CV) for this neuron.\n",
    "\n",
    "Start off by running the cell below to load in the data."
   ]
  },
  {
   "cell_type": "code",
   "execution_count": 1,
   "metadata": {},
   "outputs": [
    {
     "name": "stdout",
     "output_type": "stream",
     "text": [
      "(18, 3500, 30)\n"
     ]
    }
   ],
   "source": [
    "from scipy.io import loadmat\n",
    "\n",
    "V1_data = loadmat('V1Orientation.mat')\n",
    "spikes = V1_data['spikes']\n",
    "print(spikes.shape)"
   ]
  },
  {
   "cell_type": "markdown",
   "metadata": {},
   "source": [
    "Within the data file there is a 3-dimenisional matrix saved as the variable *spikes*. The first dimension describes the stimulus condition: the first 16 items represent stimulus orientation between 0-337.5 degrees in 22.5 degree increments, starting at 0. The last two are blank control conditions where a uniform gray background was presented.\n",
    "\n",
    "The second dimension represents the neuron's response (sampled at 1000𝐻𝑧). This dimension is a binary vector in which 1 represents a spike being fired. In this experiment, a grating (stripes of a particular orientation) was turned on at 𝑡=0, the grating began moving at 500 𝑚𝑠, and the stimulus was turned off at 2500 𝑚𝑠.\n",
    "\n",
    "The third dimension represents trial repetitions. There are 30 trials in each condition.\n",
    "\n",
    "Fill in the code below to compute the spike count rate for each of the 30 trials in each of the 16 experimental conditions."
   ]
  },
  {
   "cell_type": "code",
   "execution_count": null,
   "metadata": {},
   "outputs": [],
   "source": [
    "import numpy as np\n",
    "\n",
    "# create a placeholder of zeros that is 16 rows (conditions) by 30 columns (trials)\n",
    "allRates = # fill this in\n",
    "\n",
    "# create an outer loop that goes through each experimental condition\n",
    "for i in range(): # fill parentheses in accordingly\n",
    "    conditionData = spikes[] # fill this in to isolate the ith condition. Hint: conditionData should be 3500x30\n",
    "    \n",
    "    # create an inner loop that goes through trials\n",
    "    for j in range(): # fill parentheses in accordingly\n",
    "        # isolate time points from 500ms to 2500 ms in the jth trial\n",
    "        trialData = conditionData[] # fill in brackets accordingly. trialData should be shape 2000,\n",
    "        \n",
    "        spikeCountRate = #compute the spikeCountRate\n",
    "        \n",
    "        # store the spike count rate in the allRates array\n",
    "        allRates[] = spikeCountRate # fill in the brackets accordingly"
   ]
  },
  {
   "cell_type": "markdown",
   "metadata": {},
   "source": [
    "Run the following code snippet to visualize your firing rates for each of your conditions over the course of the experiment. **Discuss** what you see in all conditions as the experiment goes on."
   ]
  },
  {
   "cell_type": "code",
   "execution_count": null,
   "metadata": {},
   "outputs": [],
   "source": [
    "import matplotlib.pyplot as plt\n",
    "from mpl_toolkits.axes_grid1 import make_axes_locatable\n",
    "\n",
    "ax = plt.subplot(111)\n",
    "im = plt.imshow(allRates, aspect='auto')\n",
    "plt.xlabel('Trials')\n",
    "plt.ylabel('Condition Number')\n",
    "divider = make_axes_locatable(ax)\n",
    "cax = divider.append_axes(\"right\", size=\"5%\", pad=0.05)\n",
    "plt.colorbar(im, cax=cax)\n",
    "plt.show()"
   ]
  },
  {
   "cell_type": "markdown",
   "metadata": {},
   "source": [
    "Plot the mean spike count rate as a function of condition:\n",
    "\n",
    "* Create a vector called orientations that represents orientations 0 to 337.5 (inclusive) in steps of 22.5\n",
    "* Compute mean spike count rate over trials"
   ]
  },
  {
   "cell_type": "code",
   "execution_count": null,
   "metadata": {},
   "outputs": [],
   "source": []
  },
  {
   "cell_type": "markdown",
   "metadata": {},
   "source": [
    "Compute the Fano factor and the coefficient of variation for this neuron. Remember that the Fano factor is the variance in rate over the mean rate, and the CV is the standard deviation of rate over the mean rate."
   ]
  },
  {
   "cell_type": "code",
   "execution_count": null,
   "metadata": {},
   "outputs": [],
   "source": []
  },
  {
   "cell_type": "markdown",
   "metadata": {},
   "source": [
    "Let's now compute the spike density rate for your neuron. Fill in the code template below."
   ]
  },
  {
   "cell_type": "code",
   "execution_count": null,
   "metadata": {},
   "outputs": [],
   "source": [
    "# create a placeholder of zeros that is 16 rows (conditions) by 2000 columns (time points)\n",
    "allRates2 = # fill me in accordingly\n",
    "\n",
    "# create an outer loop that goes through each experimental condition\n",
    "for i in range(): # fill parentheses in accordingly\n",
    "    # parse out the ith condition (Hint: should be 3500x30)\n",
    "    conditionData = spikes[] # fill in brackets accordingly\n",
    "    \n",
    "    # create an inner loop that goes from 500 to 2500 ms\n",
    "    for j in range(): # fill in parentheses accordingly\n",
    "        # isolate the data at time j\n",
    "        timeData = conditionData[] # fill in brackets accordingly\n",
    "        \n",
    "        # compute the spike density rate\n",
    "        spikeDensity = # fill me in\n",
    "        \n",
    "        # save the spike density to the allRates array\n",
    "        allRates[] = spikeDensity # fill in brackets accordingly"
   ]
  },
  {
   "cell_type": "markdown",
   "metadata": {},
   "source": [
    "Run the following code snippet to visualize your result. **Discuss** with your group which method (spike count rate or spike density rate) gives a better picture of what the neuron is doing."
   ]
  },
  {
   "cell_type": "code",
   "execution_count": null,
   "metadata": {},
   "outputs": [],
   "source": [
    "ax = plt.subplot(111)\n",
    "im = plt.imshow(allRates, aspect='auto')\n",
    "plt.xlabel('Time (ms)')\n",
    "plt.ylabel('Condition Number')\n",
    "divider = make_axes_locatable(ax)\n",
    "cax = divider.append_axes(\"right\", size=\"5%\", pad=0.05)\n",
    "plt.colorbar(im, cax=cax)\n",
    "plt.show()"
   ]
  },
  {
   "cell_type": "markdown",
   "metadata": {},
   "source": [
    "Great work today! Please submit this to Lyceum for grading."
   ]
  }
 ],
 "metadata": {
  "kernelspec": {
   "display_name": "Python 3",
   "language": "python",
   "name": "python3"
  },
  "language_info": {
   "codemirror_mode": {
    "name": "ipython",
    "version": 3
   },
   "file_extension": ".py",
   "mimetype": "text/x-python",
   "name": "python",
   "nbconvert_exporter": "python",
   "pygments_lexer": "ipython3",
   "version": "3.7.7"
  }
 },
 "nbformat": 4,
 "nbformat_minor": 4
}
