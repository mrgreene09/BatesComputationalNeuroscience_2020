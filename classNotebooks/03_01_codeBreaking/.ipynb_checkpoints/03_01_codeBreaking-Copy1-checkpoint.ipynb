{
 "cells": [
  {
   "cell_type": "markdown",
   "metadata": {},
   "source": [
    "# Codes and Code Breaking\n",
    "\n",
    "In this unit, we will start to explore the *neural code*. You can think of the neural code as a dictionary that links brain activity to particular events in the world.\n",
    "\n",
    "We'll start the exploration of neural codes by looking at codes in general. Consider the code below - it will create an *encrypted* version of user-submitted text using a letter substitution scheme. "
   ]
  },
  {
   "cell_type": "code",
   "execution_count": 3,
   "metadata": {},
   "outputs": [],
   "source": [
    "def substituteCode(text, s):\n",
    "    # create a placeholder for the result\n",
    "    result = \"\"\n",
    "    \n",
    "    # create substitute letter by letter\n",
    "    for i in range(len(text)):\n",
    "        # isolate the current character\n",
    "        char = text[i]\n",
    "        \n",
    "        # map the character to keyboard code plus \"s\"\n",
    "        result += chr((ord(char) + s - 97) % 26+97)\n",
    "        \n",
    "    return result"
   ]
  },
  {
   "cell_type": "markdown",
   "metadata": {},
   "source": [
    "Let's try this out. Create a text variable with any lowercase text of your choice. Use the number 4 for S for now."
   ]
  },
  {
   "cell_type": "code",
   "execution_count": 6,
   "metadata": {},
   "outputs": [
    {
     "data": {
      "text/plain": [
       "''"
      ]
     },
     "execution_count": 6,
     "metadata": {},
     "output_type": "execute_result"
    }
   ],
   "source": [
    "text = '' # put your text in the quotes\n",
    "s = 4\n",
    "substituteCode(text, s)"
   ]
  },
  {
   "cell_type": "markdown",
   "metadata": {},
   "source": [
    "The code shifts each character by 4 positions in the alphabet. \"A\" now equals \"D\", etc. Prove this to yourself by setting s=1."
   ]
  },
  {
   "cell_type": "code",
   "execution_count": null,
   "metadata": {},
   "outputs": [],
   "source": [
    "text = '' # put your text in the quotes\n",
    "s = 1\n",
    "substituteCode(text, s)"
   ]
  },
  {
   "cell_type": "markdown",
   "metadata": {},
   "source": [
    "Here is a sentence that was encrypted in this way. I won't tell you the *s* that I used to do it. What do you think the code is saying? **Discussion** what are some things you could try to find out?\n",
    "\n",
    "nenah qjyyh lxmn rb cqn bjvn. nenah dwqjyyh lxmn rb dwqjyyh rw rcb xfw fjh."
   ]
  },
  {
   "cell_type": "code",
   "execution_count": null,
   "metadata": {},
   "outputs": [],
   "source": [
    "# Write some strategies here. What patterns have you uncovered?"
   ]
  },
  {
   "cell_type": "markdown",
   "metadata": {},
   "source": [
    "### Making inferences about the neural code\n",
    "\n",
    "Let's now example the behavior a real ferret neuron. The code in the cell below loads in data from a ferret V1 neuron (visual system) that was recorded by the Sur lab at MIT. "
   ]
  },
  {
   "cell_type": "code",
   "execution_count": 1,
   "metadata": {},
   "outputs": [
    {
     "name": "stdout",
     "output_type": "stream",
     "text": [
      "(18, 3500, 30)\n"
     ]
    }
   ],
   "source": [
    "from scipy.io import loadmat\n",
    "\n",
    "V1_data = loadmat('V1Orientation.mat')\n",
    "spikes = V1_data['spikes']\n",
    "print(spikes.shape)"
   ]
  },
  {
   "cell_type": "markdown",
   "metadata": {},
   "source": [
    "Within the data file there is a 3-dimenisional matrix saved as the variable *spikes*. The first dimension describes the stimulus condition: the first 16 items represent stimulus orientation between 0-337.5 degrees in 22.5 degree increments, starting at 0. The last two are blank control conditions where a uniform gray background was presented.\n",
    "\n",
    "The second dimension represents the neuron's response (sampled at 1000𝐻𝑧). This dimension is a binary vector in which 1 represents a spike being fired. In this experiment, a grating (stripes of a particular orientation) was turned on at 𝑡=0, the grating began moving at 500 𝑚𝑠, and the stimulus was turned off at 2500 𝑚𝑠.\n",
    "\n",
    "The third dimension represents trial repetitions. There are 30 trials in each condition.\n",
    "\n",
    "Let's first average over trials to get an average response for each condition. **np.mean()** is a good method for averaging over a single dimension of a matrix. For example:\n",
    "\n",
    "```python\n",
    "np.mean(myArray, axis=0)\n",
    "```\n",
    "\n",
    "would average the array according to the first dimension (i.e. the rows). Save your trial average in a variable called *trialAverage*."
   ]
  },
  {
   "cell_type": "code",
   "execution_count": null,
   "metadata": {},
   "outputs": [],
   "source": []
  },
  {
   "cell_type": "markdown",
   "metadata": {},
   "source": [
    "Let's verify that trialAverage is an 18x3500 matrix by printing its shape."
   ]
  },
  {
   "cell_type": "code",
   "execution_count": null,
   "metadata": {},
   "outputs": [],
   "source": []
  },
  {
   "cell_type": "markdown",
   "metadata": {},
   "source": [
    "We know that the last two conditions of our matrix are controls. These should show the baseline activity level of the neuron, but are not very interesting to us now. \n",
    "\n",
    "Using subsetting, \"slice\" off the last two items in the first dimension. Create a new variable called *onlyExperimental* that contains the first 16 conditions. This array should be 16x3500 when you print its shape."
   ]
  },
  {
   "cell_type": "code",
   "execution_count": null,
   "metadata": {},
   "outputs": [],
   "source": []
  },
  {
   "cell_type": "markdown",
   "metadata": {},
   "source": [
    "We want to know how many spikes were observed, on average, in each of the 16 experimental conditions. We want to start counting spikes when the grating started moving (500 ms) and stop counting spikes when the stimulus left the screen (2500 ms).\n",
    "\n",
    "You may do this either in a loop or by taking advantage of the \"axis\" argument in **np.sum()**. Save your result to a variable called *spikeCounts*."
   ]
  },
  {
   "cell_type": "code",
   "execution_count": null,
   "metadata": {},
   "outputs": [],
   "source": []
  },
  {
   "cell_type": "markdown",
   "metadata": {},
   "source": [
    "Now, let's create a vector called *orientation* that stores which orientation was presented in each of the 16 experimental conditions."
   ]
  },
  {
   "cell_type": "code",
   "execution_count": null,
   "metadata": {},
   "outputs": [],
   "source": []
  },
  {
   "cell_type": "markdown",
   "metadata": {},
   "source": [
    "Create a plot that shows spike counts as a function of orientation. Label your axes appropriately. With your group, **discuss** the pattern that you see. If I were to show you some neural data from an unlabeled condition, how easy or hard would it be to *predict* which orientation it was from?"
   ]
  },
  {
   "cell_type": "code",
   "execution_count": null,
   "metadata": {},
   "outputs": [],
   "source": []
  },
  {
   "cell_type": "markdown",
   "metadata": {},
   "source": [
    "Good job today! Please submit this notebook on Lyceum for grading!"
   ]
  }
 ],
 "metadata": {
  "kernelspec": {
   "display_name": "Python 3",
   "language": "python",
   "name": "python3"
  },
  "language_info": {
   "codemirror_mode": {
    "name": "ipython",
    "version": 3
   },
   "file_extension": ".py",
   "mimetype": "text/x-python",
   "name": "python",
   "nbconvert_exporter": "python",
   "pygments_lexer": "ipython3",
   "version": "3.7.7"
  }
 },
 "nbformat": 4,
 "nbformat_minor": 4
}
