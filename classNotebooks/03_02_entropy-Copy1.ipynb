{
 "cells": [
  {
   "cell_type": "markdown",
   "metadata": {},
   "source": [
    "# Introduction to Information Theory: Entropy\n",
    "\n",
    "\n",
    "As you know from your reading, the more rare an event is, the more surprised we would be if we observed it, and the more *information* the event would have. The Shannon information for an event *x* is:\n",
    "\n",
    "$$log \\frac{1}{p(x)}$$\n",
    "\n",
    "Consider the probabilities of some lifetime events. Compute their information in individual cells.\n",
    "\n",
    "* [Being struck by lightning this year (1/700000)](https://www.nationalgeographic.com/news/2005/6/flash-facts-about-lightning/)\n",
    "* [Being struck by lightning in a lifetime (1/3000)](https://www.nationalgeographic.com/news/2005/6/flash-facts-about-lightning/)\n",
    "* [Getting audited by the IRS (1/200)](https://www.irs.gov/statistics/compliance-presence)\n",
    "* [Living to age 100 (2/25)](https://www.marketwatch.com/story/should-we-plan-on-living-to-100-2017-08-28)\n",
    "* [Having food poisoning this year (1/6)](https://www.foodsafety.gov/food-poisoning)"
   ]
  },
  {
   "cell_type": "code",
   "execution_count": 1,
   "metadata": {},
   "outputs": [
    {
     "name": "stdout",
     "output_type": "stream",
     "text": [
      "19.416995396494414\n"
     ]
    }
   ],
   "source": [
    "import numpy as np\n",
    "sLightning1 = np.log2(1/(1/700000))\n",
    "print(sLightning1)"
   ]
  },
  {
   "cell_type": "code",
   "execution_count": 2,
   "metadata": {},
   "outputs": [
    {
     "name": "stdout",
     "output_type": "stream",
     "text": [
      "11.550746785383243\n"
     ]
    }
   ],
   "source": [
    "sLightning2 = np.log2(1/(1/3000))\n",
    "print(sLightning2)"
   ]
  },
  {
   "cell_type": "code",
   "execution_count": 3,
   "metadata": {},
   "outputs": [
    {
     "name": "stdout",
     "output_type": "stream",
     "text": [
      "7.643856189774724\n"
     ]
    }
   ],
   "source": [
    "sIRS = np.log2(1/(1/200))\n",
    "print(sIRS)"
   ]
  },
  {
   "cell_type": "code",
   "execution_count": 5,
   "metadata": {},
   "outputs": [
    {
     "name": "stdout",
     "output_type": "stream",
     "text": [
      "3.643856189774725\n"
     ]
    }
   ],
   "source": [
    "sOld = np.log2(1/(2/25))\n",
    "print(sOld)"
   ]
  },
  {
   "cell_type": "code",
   "execution_count": 6,
   "metadata": {},
   "outputs": [
    {
     "name": "stdout",
     "output_type": "stream",
     "text": [
      "2.584962500721156\n"
     ]
    }
   ],
   "source": [
    "sFood = np.log2(1/(1/6))\n",
    "print(sFood)"
   ]
  },
  {
   "cell_type": "code",
   "execution_count": null,
   "metadata": {},
   "outputs": [],
   "source": []
  },
  {
   "cell_type": "code",
   "execution_count": 14,
   "metadata": {},
   "outputs": [
    {
     "data": {
      "text/plain": [
       "Text(0, 0.5, 'Information')"
      ]
     },
     "execution_count": 14,
     "metadata": {},
     "output_type": "execute_result"
    },
    {
     "data": {
      "image/png": "[encoded data removed]",
      "text/plain": [
       "<Figure size 432x288 with 1 Axes>"
      ]
     },
     "metadata": {
      "needs_background": "light"
     },
     "output_type": "display_data"
    }
   ],
   "source": [
    "probs = [(1/700000), (1/3000), (1/200), (2/25), (1/6)]\n",
    "surprise = [sLightning1, sLightning2, sIRS, sOld, sFood]\n",
    "\n",
    "import matplotlib.pyplot as plt\n",
    "plt.figure()\n",
    "plt.plot(probs, surprise)\n",
    "plt.xlabel(\"Probability\")\n",
    "plt.ylabel(\"Information\")"
   ]
  },
  {
   "cell_type": "markdown",
   "metadata": {},
   "source": [
    "This makes a certain amount of sense. You would be much more surprised to meet someone who had just been struck by lightning than someone who had just recovered from food poisoning, right?\n",
    "\n",
    "In the cell below, write a for loop to compute information (surprisal) for probabilities between 0.0001 and 1 in steps of 0.0001. Plot surprisal as a function of probability. Your graph should look like Figure 2.3a from your reading. **Discussion** consider the surprisal that you calculated above - where do these events fall on your plot?"
   ]
  },
  {
   "cell_type": "code",
   "execution_count": 7,
   "metadata": {},
   "outputs": [
    {
     "data": {
      "text/plain": [
       "Text(0, 0.5, 'Information')"
      ]
     },
     "execution_count": 7,
     "metadata": {},
     "output_type": "execute_result"
    },
    {
     "data": {
      "image/png": "[encoded data removed]",
      "text/plain": [
       "<Figure size 432x288 with 1 Axes>"
      ]
     },
     "metadata": {
      "needs_background": "light"
     },
     "output_type": "display_data"
    }
   ],
   "source": [
    "import matplotlib.pyplot as plt\n",
    "\n",
    "probs = np.arange(0.0001, 1, 0.0001)\n",
    "surprise = np.zeros(len(probs))\n",
    "\n",
    "for i in range(len(probs)):\n",
    "    surprise[i] = np.log2(1/probs[i])\n",
    "\n",
    "plt.figure()\n",
    "plt.plot(probs, surprise)\n",
    "plt.xlabel(\"Probability\")\n",
    "plt.ylabel(\"Information\")"
   ]
  },
  {
   "cell_type": "markdown",
   "metadata": {},
   "source": [
    "Surprisal is related to a more common metric - that of entropy. You may have heard of entropy in a chemistry or physics class. *This* entropy was inspired by the idea of statistical thermodynamics, but is a fundamentally different entity. Entropy in the information theoretic sense is the average amount of surprise across a probability distribution:\n",
    "\n",
    "$$H(x) = - \\sum p_i log p_i$$\n",
    "\n",
    "Fill in the template below to create a Python function that will compute entropy. Your function should take a probability distribution as input and return the entropy value. For example, [0.5, 0.5] is a probability distribution reflecting a fair coin."
   ]
  },
  {
   "cell_type": "code",
   "execution_count": 8,
   "metadata": {},
   "outputs": [],
   "source": [
    "def computeEntropy(p): # fill in parentheses with input argument\n",
    "    H = -1 * np.sum(p * np.log2(p))\n",
    "    return H"
   ]
  },
  {
   "cell_type": "markdown",
   "metadata": {},
   "source": [
    "Use your function to compute the entropy for an unbiased coin and a biased coin that shows heads 90% of the time. Verify that you get 1 bit and 0.469 bits respectively."
   ]
  },
  {
   "cell_type": "code",
   "execution_count": 11,
   "metadata": {},
   "outputs": [
    {
     "name": "stdout",
     "output_type": "stream",
     "text": [
      "1.0\n",
      "0.4689955935892812\n"
     ]
    }
   ],
   "source": [
    "print(computeEntropy([.5, .5]))\n",
    "print(computeEntropy([.9, .1]))"
   ]
  },
  {
   "cell_type": "markdown",
   "metadata": {},
   "source": [
    "Let's use your function to recreate the plot in Figure 2.3b. In a for loop, use your function to compute the entropy of coins with bias between 0.1 and 0.9 in steps of 0.1. "
   ]
  },
  {
   "cell_type": "code",
   "execution_count": 12,
   "metadata": {},
   "outputs": [
    {
     "data": {
      "text/plain": [
       "Text(0, 0.5, 'Entropy')"
      ]
     },
     "execution_count": 12,
     "metadata": {},
     "output_type": "execute_result"
    },
    {
     "data": {
      "image/png": "[encoded data removed]",
      "text/plain": [
       "<Figure size 432x288 with 1 Axes>"
      ]
     },
     "metadata": {
      "needs_background": "light"
     },
     "output_type": "display_data"
    }
   ],
   "source": [
    "bias = np.arange(0.1, 1, 0.1)\n",
    "entropy = np.zeros(len(bias))\n",
    "\n",
    "for i in range(len(bias)):\n",
    "    dist = [bias[i], 1-bias[i]]\n",
    "    entropy[i] = computeEntropy(dist)\n",
    "    \n",
    "plt.figure()\n",
    "plt.plot(bias, entropy)\n",
    "plt.xlabel(\"Coin Bias\")\n",
    "plt.ylabel(\"Entropy\")"
   ]
  },
  {
   "cell_type": "code",
   "execution_count": 16,
   "metadata": {},
   "outputs": [
    {
     "name": "stdout",
     "output_type": "stream",
     "text": [
      "3.302998484253772\n"
     ]
    }
   ],
   "source": [
    "dist = [.03, .06, .08, .11, .14, .17, .14, .11, .08, .06, .03]\n",
    "print(computeEntropy(dist))"
   ]
  },
  {
   "cell_type": "code",
   "execution_count": 17,
   "metadata": {},
   "outputs": [
    {
     "name": "stdout",
     "output_type": "stream",
     "text": [
      "2.584962500721156\n"
     ]
    }
   ],
   "source": [
    "print(np.log2(6))"
   ]
  },
  {
   "cell_type": "code",
   "execution_count": 18,
   "metadata": {},
   "outputs": [
    {
     "data": {
      "text/plain": [
       "0.7199999999999998"
      ]
     },
     "execution_count": 18,
     "metadata": {},
     "output_type": "execute_result"
    }
   ],
   "source": [
    "3.3 - 2.58"
   ]
  },
  {
   "cell_type": "markdown",
   "metadata": {},
   "source": [
    "Nice work today! Please submit your notebook for grading!"
   ]
  }
 ],
 "metadata": {
  "kernelspec": {
   "display_name": "Python 3",
   "language": "python",
   "name": "python3"
  },
  "language_info": {
   "codemirror_mode": {
    "name": "ipython",
    "version": 3
   },
   "file_extension": ".py",
   "mimetype": "text/x-python",
   "name": "python",
   "nbconvert_exporter": "python",
   "pygments_lexer": "ipython3",
   "version": "3.7.7"
  }
 },
 "nbformat": 4,
 "nbformat_minor": 4
}
