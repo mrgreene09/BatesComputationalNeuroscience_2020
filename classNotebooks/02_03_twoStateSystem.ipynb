{
 "cells": [
  {
   "cell_type": "markdown",
   "metadata": {},
   "source": [
    "# Hodgkin and Huxley, part 1: Two-state system\n",
    "\n",
    "In the Hodgkin and Huxley model, each voltage-gated ion channel has a number of independent gates. Each gate can be in one of two states: a *permissive* state that makes channel opening more likely, and a *non-permissive* state that decreases the probability of the channel opening. The ion channel is open when all gates are in the permissive state.\n",
    "\n",
    "The fraction of channels in each state sums to 1 because these are mutually exclusive possibilities.\n",
    "\n",
    "The $\\alpha$ rate constant governs moving from the non-permissive state to the *permissive* state. The $\\beta$ rate constant governs the movement from the permissive state to the non-permissive state.\n",
    "\n",
    "In the HH model, both $\\alpha$ and $\\beta$ will change with the membrane potential $V_m$. However, let's start with a simplified example during a voltage-clamp experiment.  \n",
    "\n",
    "Recall from your reading that the rate of change in this system is:\n",
    "\n",
    "$$\\frac{dp}{dt} = \\alpha(1-p) - \\beta(p) $$\n",
    "\n",
    "Where *p* stands for the fraction of gates in the permissive state.\n",
    "\n",
    "* Set the permissive and nonpermissive variables to values of your choice (remember they need to sum to 1). \n",
    "* Create variables alpha and beta where $\\alpha$ is twice the value of $\\beta$. \n",
    "* Write a for loop that calculates $\\frac{dp}{dt}$ for the present proportion of permissive gates. In each cycle of the loop, update the proportion of permissive gates and print this value. Run your loop for 5-10 cycles."
   ]
  },
  {
   "cell_type": "code",
   "execution_count": null,
   "metadata": {},
   "outputs": [],
   "source": []
  },
  {
   "cell_type": "markdown",
   "metadata": {},
   "source": [
    "If correctly implemented, you should see that *p* approaches 0.67. Let's verify this with the theoretical steady state value given by your reading:\n",
    "\n",
    "$$p_\\infty = \\frac{\\alpha}{\\alpha + \\beta}$$\n",
    "\n",
    "Using your $\\alpha$ and $\\beta$ values, create a new variable to represent the steady state proportion. How does this compare with the last value from your loop.\n",
    "\n",
    "**Discussion**\n",
    "What do these values mean in words? Does it make sense why the final proportion *p* is 0.67?"
   ]
  },
  {
   "cell_type": "code",
   "execution_count": null,
   "metadata": {},
   "outputs": [],
   "source": []
  },
  {
   "cell_type": "markdown",
   "metadata": {},
   "source": [
    "When an individual ion channel is open, it contributes a small, fixed value to the overall conductance for that ion, and is 0 when it is closed. The macroscopic conductance for a large population of channels is thus proportional to the number of channels in the open state, which is in turn proportional to the probability that the associated gates are in their permissive state. \n",
    "\n",
    "Let's consider the case of a general ion, *x*. The macroscopic conductance, $G_x$ for channels of type *x*, with gates of type *i* is proportional to the product of the individual gate probabilities, $P_i$:\n",
    "\n",
    "$$G_x = g_{xMax} \\prod_{i} p_i$$\n",
    "\n",
    "Where $g_{xMax}$ is the maximum conductance for ion *x* when all channels are open. This is dictated by the density of ion channels, how freely ions can physically flow through channels, and their driving force.\n",
    "\n",
    "In the cell below, we simulate a voltate-clamp experiment with ion *x*. "
   ]
  },
  {
   "cell_type": "code",
   "execution_count": 23,
   "metadata": {},
   "outputs": [
    {
     "data": {
      "text/plain": [
       "Text(0, 0.5, 'Conductance')"
      ]
     },
     "execution_count": 23,
     "metadata": {},
     "output_type": "execute_result"
    },
    {
     "data": {
      "image/png": "[encoded data removed]",
      "text/plain": [
       "<Figure size 432x288 with 1 Axes>"
      ]
     },
     "metadata": {
      "needs_background": "light"
     },
     "output_type": "display_data"
    }
   ],
   "source": [
    "# import necessary libraries\n",
    "import matplotlib.pyplot as plt\n",
    "import numpy as np\n",
    "\n",
    "# assume 400 gates in population\n",
    "numGates = 400\n",
    "\n",
    "# assume maximum conductance of 5\n",
    "gMax = 5\n",
    "\n",
    "# assume alpha of 0.6 and beta of 0.3\n",
    "alpha = 0.6\n",
    "beta = 0.3\n",
    "\n",
    "# initialize all gates to be in non-permissive state\n",
    "p = 0\n",
    "\n",
    "# initialize time and conductance vectors\n",
    "timeVec = np.arange(100)\n",
    "gVec = np.zeros(len(timeVec))\n",
    "\n",
    "# for each time point\n",
    "for t in range(len(timeVec)):\n",
    "    \n",
    "    # update probability\n",
    "    dp = alpha*(1-p) - beta*p\n",
    "    p = p + dp\n",
    "    \n",
    "    # compute conductance\n",
    "    gVec[t] = gMax * np.prod(p)\n",
    "    \n",
    "plt.figure()\n",
    "plt.plot(timeVec, gVec)\n",
    "plt.xlabel('Time Steps')\n",
    "plt.ylabel('Conductance')\n",
    "    "
   ]
  },
  {
   "cell_type": "markdown",
   "metadata": {},
   "source": [
    "Of course, alpha and beta are dependent on the membrane potential, $V_m$. Below is a copy of the simulation with a new set of rate constants to fill in. Run this simulation with a variety of rate constants. **Discuss** with your group how rate constant values affect the dynamics of conductance."
   ]
  },
  {
   "cell_type": "code",
   "execution_count": null,
   "metadata": {},
   "outputs": [],
   "source": [
    "# import necessary libraries\n",
    "import matplotlib.pyplot as plt\n",
    "import numpy as np\n",
    "\n",
    "# assume 400 gates in population\n",
    "numGates = 400\n",
    "\n",
    "# assume maximum conductance of 5\n",
    "gMax = 5\n",
    "\n",
    "# assume alpha of 0.6 and beta of 0.3\n",
    "alpha = 0.6\n",
    "beta = 0.3\n",
    "\n",
    "# new rate constants to fill in\n",
    "alpha_new = \n",
    "beta_new = \n",
    "\n",
    "# initialize all gates to be in non-permissive state\n",
    "p1 = 0\n",
    "p2 = \n",
    "\n",
    "# initialize time and conductance vectors\n",
    "timeVec = np.arange(100)\n",
    "gVec = np.zeros(len(timeVec))\n",
    "gVec_new = \n",
    "\n",
    "# for each time point\n",
    "for t in range(len(timeVec)):\n",
    "    \n",
    "    # update probability 1\n",
    "    dp = alpha*(1-p1) - beta*p1\n",
    "    p1 = p1+ dp\n",
    "    \n",
    "    # update probability 2\n",
    "    dp = \n",
    "    p2 = \n",
    "    \n",
    "    # compute conductance\n",
    "    gVec[t] = gMax * np.prod(p1)\n",
    "    gVec_new[t] = \n",
    "    \n",
    "plt.figure()\n",
    "plt.plot(timeVec, gVec, timeVec, gVec_new)\n",
    "plt.xlabel('Time Steps')\n",
    "plt.ylabel('Conductance')"
   ]
  },
  {
   "cell_type": "markdown",
   "metadata": {},
   "source": [
    "Let's now consider a real example: the voltage-gated K+ channel. The rate constants for this channel are given by:\n",
    "\n",
    "$$\\alpha_n(V_m) = \\frac{0.01(V_m + 55)}{1 - e^{(-.1(V_m+55))}}$$\n",
    "\n",
    "$$\\beta_n(V_m) = 0.125e^{(-.01125(V_m+55))}$$\n",
    "\n",
    "In the cell below, calculate $\\alpha_n$ and $\\beta_n$ at the neuron's resting potential of -65 mV."
   ]
  },
  {
   "cell_type": "code",
   "execution_count": null,
   "metadata": {},
   "outputs": [],
   "source": []
  },
  {
   "cell_type": "markdown",
   "metadata": {},
   "source": [
    "Let's now see how these rate constants change as we increase $V_m$ from the resting potential to a depolarized level of +20 mV. Fill in the template below to create the graph. **Discussion**: As the cell becomes more depolarized, what happens to the rate constants? Does this make the channels more likely or less likely to open? In this state, will K+ conductance increase or decrease?"
   ]
  },
  {
   "cell_type": "code",
   "execution_count": null,
   "metadata": {},
   "outputs": [],
   "source": [
    "# import the necessary libraries\n",
    "import numpy as np\n",
    "import matplotlib.pyplot as plt\n",
    "\n",
    "# define range of voltages to test (hint: -65 to +20)\n",
    "voltageVector = \n",
    "\n",
    "# pre-allocate space for alpha and beta vectors\n",
    "alpha = \n",
    "beta = \n",
    "# calculate alpha and beta for each voltage\n",
    "for v in range(len(voltageVector)):\n",
    "    # update alpha with current voltage\n",
    "    # update beta with current voltage\n",
    "    \n",
    "# plot the results\n",
    "plt.figure()\n",
    "plt.xlabel('Voltage (mV)')\n",
    "plt.ylabel('Rate Constant')\n",
    "plt.plot(voltageVector, alpha, label='Alpha')\n",
    "plt.plot(voltageVector, beta, label='Beta')\n",
    "\n",
    "plt.legend(loc=\"upper left\")"
   ]
  },
  {
   "cell_type": "markdown",
   "metadata": {},
   "source": [
    "Excellent work today! Please submit this notebook for grading!"
   ]
  }
 ],
 "metadata": {
  "kernelspec": {
   "display_name": "Python 3",
   "language": "python",
   "name": "python3"
  },
  "language_info": {
   "codemirror_mode": {
    "name": "ipython",
    "version": 3
   },
   "file_extension": ".py",
   "mimetype": "text/x-python",
   "name": "python",
   "nbconvert_exporter": "python",
   "pygments_lexer": "ipython3",
   "version": "3.7.7"
  }
 },
 "nbformat": 4,
 "nbformat_minor": 4
}
