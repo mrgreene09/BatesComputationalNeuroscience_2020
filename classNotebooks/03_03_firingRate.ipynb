{
 "cells": [
  {
   "cell_type": "markdown",
   "metadata": {},
   "source": [
    "# Computing Firing Rates\n",
    "\n",
    "As you recall form the [Gerstner reading](https://neuronaldynamics.epfl.ch/online/Ch7.html), there are several ways to think about a neuron's firing rate.\n",
    "\n",
    "We will first consider spike count rate because it is the most straightforward. The cell below creates some synthetic neural data. The resulting array has a 1 at each time point that contains a spike and zeros elsewhere. We will assume that we are recording for 1 second at 1000 Hz. The simulation below assumes the neuron fires at an average rate of 20 Hz for the first 500 ms and at 60 Hz thereafter."
   ]
  },
  {
   "cell_type": "code",
   "execution_count": 1,
   "metadata": {},
   "outputs": [
    {
     "data": {
      "text/plain": [
       "[<matplotlib.lines.Line2D at 0x11c0da4d0>]"
      ]
     },
     "execution_count": 1,
     "metadata": {},
     "output_type": "execute_result"
    },
    {
     "data": {
      "image/png": "[encoded data removed]",
      "text/plain": [
       "<Figure size 432x288 with 1 Axes>"
      ]
     },
     "metadata": {
      "needs_background": "light"
     },
     "output_type": "display_data"
    }
   ],
   "source": [
    "# create synthetic neural response\n",
    "import numpy as np\n",
    "import matplotlib.pyplot as plt\n",
    "\n",
    "timePoints = 1000\n",
    "p1 = 20/1000\n",
    "p2 = 60/1000\n",
    "\n",
    "modelData = np.zeros(timePoints)\n",
    "\n",
    "for i in range(len(modelData)):\n",
    "    # for the first 500 ms, fire at 20 Hz, then fire at 60 Hz\n",
    "    if i < 499:\n",
    "        p = p1\n",
    "    else:\n",
    "        p = p2\n",
    "        \n",
    "    if np.random.rand() < p:\n",
    "        modelData[i] = 1\n",
    "\n",
    "# plot the synthetic data\n",
    "plt.figure()\n",
    "plt.plot(np.arange(0,timePoints), modelData)"
   ]
  },
  {
   "cell_type": "markdown",
   "metadata": {},
   "source": [
    "Compute the spike count rate for this neuron in the cell below. With your group, **discuss** the advantages and disadvantages to computing firing rate in this way."
   ]
  },
  {
   "cell_type": "code",
   "execution_count": null,
   "metadata": {},
   "outputs": [],
   "source": []
  },
  {
   "cell_type": "markdown",
   "metadata": {},
   "source": [
    "In order to calculate the spike density rate, we need to simulate many trials from this same neuron. Use the template below to simulate 30 trials that are produced with the method outlined above."
   ]
  },
  {
   "cell_type": "code",
   "execution_count": null,
   "metadata": {},
   "outputs": [],
   "source": [
    "import numpy as np\n",
    "import matplotlib.pyplot as plt\n",
    "\n",
    "timePoints = 1000\n",
    "p1 = 20/1000\n",
    "p2 = 60/1000\n",
    "\n",
    "modelData = np.zeros # fill this in to be a 30x1000 array\n",
    "\n",
    "for j in range(): # fill in loop to reflect 30 trials\n",
    "    for i in range(): # fill in accordingly\n",
    "        # for the first 500 ms, fire at 20 Hz, then fire at 60 Hz\n",
    "        if i < 499:\n",
    "            p = p1\n",
    "        else:\n",
    "            p = p2\n",
    "        \n",
    "        if np.random.rand() < p:\n",
    "            modelData[j,i] = 1\n",
    "        \n",
    "# create a raster plot\n",
    "time = np.arange(1000)\n",
    "\n",
    "for i in range(30):\n",
    "    spikes, = np.nonzero(modelData[i,:])\n",
    "    \n",
    "    spikeTimes = time[spikes]\n",
    "    theseSpikes = np.ones(len(spikes))*i+1\n",
    "    \n",
    "    plt.scatter(spikeTimes, theseSpikes, s=2, c='k')\n",
    "\n",
    "plt.xlabel('Time (ms)')\n",
    "plt.ylabel('Trial number')"
   ]
  },
  {
   "cell_type": "markdown",
   "metadata": {},
   "source": [
    "In order to compute the spike density, you will need to sum over trials to plot the number of spikes observed in each time bin. Hint: [**np.sum()**](https://numpy.org/doc/stable/reference/generated/numpy.sum.html) has an optional input called *axis* where axis=0 specifies summing over rows, and axis=1 refers to summing over columns. \n",
    "\n",
    "Compute the spike density and plot it versus time."
   ]
  },
  {
   "cell_type": "code",
   "execution_count": null,
   "metadata": {},
   "outputs": [],
   "source": []
  },
  {
   "cell_type": "markdown",
   "metadata": {},
   "source": [
    "Let's now compute the Fano factor for this simulated data. Recall that this is the variance of the spike count rate over its mean:\n",
    "\n",
    "$$F = \\frac{{\\sigma_{sp}}^2}{\\mu_{sp}}$$\n",
    "\n",
    "Loop through each trial and store the spike count rate. Then, use **np.var()** and **np.mean()** to compute the Fano factor."
   ]
  },
  {
   "cell_type": "code",
   "execution_count": null,
   "metadata": {},
   "outputs": [],
   "source": []
  },
  {
   "cell_type": "markdown",
   "metadata": {},
   "source": [
    "Nice work today! Please upload this notebook to Lyceum for grading."
   ]
  }
 ],
 "metadata": {
  "kernelspec": {
   "display_name": "Python 3",
   "language": "python",
   "name": "python3"
  },
  "language_info": {
   "codemirror_mode": {
    "name": "ipython",
    "version": 3
   },
   "file_extension": ".py",
   "mimetype": "text/x-python",
   "name": "python",
   "nbconvert_exporter": "python",
   "pygments_lexer": "ipython3",
   "version": "3.7.7"
  }
 },
 "nbformat": 4,
 "nbformat_minor": 4
}
