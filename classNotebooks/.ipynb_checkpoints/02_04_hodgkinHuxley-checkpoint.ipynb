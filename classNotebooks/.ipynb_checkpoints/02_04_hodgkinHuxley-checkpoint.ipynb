{
 "cells": [
  {
   "cell_type": "markdown",
   "metadata": {},
   "source": [
    "# Hodgkin and Huxley Notebook\n",
    "\n",
    "Yesterday, we worked with the $\\alpha$ and $\\beta$ parameters of the *n* gating variable that governs the voltage-gated potassium channel. Let's review and extend this by plotting the $\\alpha$ and $\\beta$ parameters of each of the three gating variables: *n*, *m*, and *h*.\n",
    "\n",
    "Here are the equations from the model:\n",
    "\n",
    "\\begin{equation*}\n",
    "\\alpha_n(V_m) = \\frac{0.01(V_m + 55)}{1 - e^{(-.1(V_m+55))}}\n",
    "\\end{equation*}\n",
    "\n",
    "\\begin{equation*}\n",
    "\\beta_n(V_m) = 0.125e^{(-.01125(V+55))}\n",
    "\\end{equation*}\n",
    "\n",
    "\\begin{equation*}\n",
    "\\alpha_m(V_m) = \\frac{0.1(V_m + 40)}{1 - e^{(-.1(V_m+40))}}\n",
    "\\end{equation*}\n",
    "\n",
    "\\begin{equation*}\n",
    "\\beta_m(V_m) = 4e^{(-.05556(V_m+65))}\n",
    "\\end{equation*}\n",
    "\n",
    "\\begin{equation*}\n",
    "\\alpha_h(V_m) = 0.07e^{(-.05(V_m+65))}\n",
    "\\end{equation*}\n",
    "\n",
    "\\begin{equation*}\n",
    "\\beta_h(V_m) = \\frac{1}{1 + e^{(-.1(V_m+35))}}\n",
    "\\end{equation*}\n",
    "\n",
    "Fill in the code below to show the $\\alpha$ and $\\beta$ values for voltages between -100 and +25 mV. Your resulting figure should resemble Figure 4.3 from Miller. "
   ]
  },
  {
   "cell_type": "code",
   "execution_count": null,
   "metadata": {},
   "outputs": [],
   "source": [
    "# import the necessary libraries\n",
    "import numpy as np\n",
    "import matplotlib.pyplot as plt\n",
    "\n",
    "# define range of voltages to test (hint: -100 to +25)\n",
    "voltageVector = \n",
    "\n",
    "# pre-allocate space for all alpha and beta vectors\n",
    "alpha_n = \n",
    "beta_n = \n",
    "alpha_m = \n",
    "beta_m = \n",
    "alpha_h = \n",
    "beta_h = \n",
    "\n",
    "# calculate alpha and beta for each voltage\n",
    "for v in range(len(voltageVector)):\n",
    "    # update all alphas with current voltage\n",
    "    # update all betas with current voltage\n",
    "    \n",
    "# plot the results\n",
    "plt.figure()\n",
    "plt.subplot(1, 3, 1)\n",
    "plt.xlabel('Voltage (mV)')\n",
    "plt.ylabel('Rate Constant')\n",
    "plt.plot(voltageVector, alpha_m, label='Alpha_m')\n",
    "plt.plot(voltageVector, beta_m, label='Beta_m')\n",
    "plt.legend(loc=\"upper left\")\n",
    "plt.subplot(1, 3, 2)\n",
    "plt.xlabel('Voltage (mV)')\n",
    "plt.ylabel('Rate Constant')\n",
    "plt.plot(voltageVector, alpha_n, label='Alpha_n')\n",
    "plt.plot(voltageVector, beta_n, label='Beta_n')\n",
    "plt.legend(loc=\"upper left\")\n",
    "plt.subplot(1, 3, 3)\n",
    "plt.xlabel('Voltage (mV)')\n",
    "plt.ylabel('Rate Constant')\n",
    "plt.plot(voltageVector, alpha_h, label='Alpha_h')\n",
    "plt.plot(voltageVector, beta_h, label='Beta_h')\n",
    "plt.legend(loc=\"upper left\")"
   ]
  },
  {
   "cell_type": "markdown",
   "metadata": {},
   "source": [
    "Examine the plots and **discuss** with your group why they look the way that they do: why are n and m more similar than h? What is it about the n and m plots that show transient versus delayed rectified responses?\n",
    "\n",
    "As you have just shown, the rate constants vary dynamically with voltage. These rate constants also govern the values of the gating variables. Using the same voltage clamp values as above, use the values of the rate constants to calculate the steady-state values for each of the gating variables. Recall that the steady-state value is:\n",
    "\n",
    "$$x_\\infty = \\frac{\\alpha_x(V_m)}{\\alpha_x(V_m)+\\beta_x(V_m)}$$\n",
    "\n",
    "For x = {m, n, h}.\n",
    "\n",
    "The resulting figure should resemble 4.3 of Miller."
   ]
  },
  {
   "cell_type": "code",
   "execution_count": null,
   "metadata": {},
   "outputs": [],
   "source": [
    "# import the necessary libraries\n",
    "import numpy as np\n",
    "import matplotlib.pyplot as plt\n",
    "\n",
    "# define range of voltages to test (hint: -100 to +25)\n",
    "voltageVector = \n",
    "\n",
    "# pre-allocate space for the m, n, and h vectors\n",
    "mVec = \n",
    "nVec = \n",
    "hVec = \n",
    "\n",
    "# calculate alpha and beta for each voltage, and use this value to calculate x_infinity\n",
    "for v in range(len(voltageVector)):\n",
    "    # calculate all alphas\n",
    "    \n",
    "    # calculate all betas\n",
    "    \n",
    "    # calculate and store all steady state values\n",
    "    \n",
    "# plot the results\n",
    "plt.figure()\n",
    "plt.plot(voltageVector, mVec, label=\"m\")\n",
    "plt.plot(voltageVector, nVec, label=\"n\")\n",
    "plot.plot(voltageVector, hVec, label=\"h\")\n",
    "plt.legend(loc=\"lower right\")\n",
    "plt.xlabel(\"Voltage (mV)\")\n",
    "plt.ylabel(\"Gating variable value\")"
   ]
  },
  {
   "cell_type": "markdown",
   "metadata": {},
   "source": [
    "Please list your collaborators in the cell below and upload your notebook for grading!"
   ]
  },
  {
   "cell_type": "code",
   "execution_count": null,
   "metadata": {},
   "outputs": [],
   "source": []
  }
 ],
 "metadata": {
  "kernelspec": {
   "display_name": "Python 3",
   "language": "python",
   "name": "python3"
  },
  "language_info": {
   "codemirror_mode": {
    "name": "ipython",
    "version": 3
   },
   "file_extension": ".py",
   "mimetype": "text/x-python",
   "name": "python",
   "nbconvert_exporter": "python",
   "pygments_lexer": "ipython3",
   "version": "3.7.7"
  }
 },
 "nbformat": 4,
 "nbformat_minor": 4
}
