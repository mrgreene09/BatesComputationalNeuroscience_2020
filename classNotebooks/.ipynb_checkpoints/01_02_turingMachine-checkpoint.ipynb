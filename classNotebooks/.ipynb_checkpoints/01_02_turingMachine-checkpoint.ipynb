{
 "cells": [
  {
   "cell_type": "markdown",
   "metadata": {},
   "source": [
    "# Turing Machine\n",
    "\n",
    "In the video lecture, you were introduced to the following Turing machine:\n",
    "![](02_357_turingMachine.jpg)\n",
    "\n",
    "In the cell below, we are going to work together to implement this machine in Python code.\n"
   ]
  },
  {
   "cell_type": "code",
   "execution_count": null,
   "metadata": {},
   "outputs": [],
   "source": [
    "tape = ['b', 0, 0, 1, 1, 'b']\n",
    "currentState = 'START'\n",
    "currentPosition = 1\n",
    "\n",
    "# Fill in Turing machine details here"
   ]
  }
 ],
 "metadata": {
  "kernelspec": {
   "display_name": "Python 3",
   "language": "python",
   "name": "python3"
  },
  "language_info": {
   "codemirror_mode": {
    "name": "ipython",
    "version": 3
   },
   "file_extension": ".py",
   "mimetype": "text/x-python",
   "name": "python",
   "nbconvert_exporter": "python",
   "pygments_lexer": "ipython3",
   "version": "3.7.7"
  }
 },
 "nbformat": 4,
 "nbformat_minor": 4
}
