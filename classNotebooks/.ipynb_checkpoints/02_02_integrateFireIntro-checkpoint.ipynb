{
 "cells": [
  {
   "cell_type": "markdown",
   "metadata": {},
   "source": [
    "# Integrate and Fire Model\n",
    "\n",
    "The integrate-and-fire model is a representation of the *passive* properties of neuron. Recall from your reading that the standard membrane equation for a neuron is:\n",
    "\n",
    "\\begin{equation*}\n",
    "\\tau_m\\frac{dV}{dt} = {R_m}{I_e} + E_m - V\n",
    "\\end{equation*}\n",
    "\n",
    "Where:\n",
    "- $\\tau_m$ is the time constant.\n",
    "- $I_e$ is the current being injected .\n",
    "- $E_m$ is the resting potential.\n",
    "- $R_m$ is the membrane resistance.\n",
    "\n",
    "We can give the model some reasonable initial conditions. For example, we can state that at the beginning of the simulation $E_m = V$ (i.e. the membrane is at rest). At t=0, the solution is:\n",
    "\n",
    "\\begin{equation*}\n",
    "V_m = {R_m}{I_e}(1 - e^\\frac{-t}{\\tau}) + E_m\n",
    "\\end{equation*}\n",
    "\n",
    "And the rule for updating each subsequent $V_m$ is:\n",
    "\n",
    "\\begin{equation*}\n",
    "V(t + \\Delta t) = E_m + {R_m}{I_e}(t) + (V(t) - E_m - {R_m}{I_e}(t))e^\\frac{-\\Delta t}{\\tau}\n",
    "\\end{equation*}\n",
    "\n",
    "### Your mission in lab:\n",
    "\n",
    "Implement a simulation of an integrate-and-fire neuron that is injected with varying levels of current. Run each simulation for 500 ms in time increments of 0.1 ms with the membrane starting at its resting potential of -70 mV, and the current pulse starting 100 ms into the simulation and continuing for 300 ms. Assume that the 1.52 nA current pulse is above threshold and will cause spiking. You may use the following parameter values for your simulation:\n",
    "\n",
    "\n",
    "\\begin{equation*}\n",
    "R_m = 10M\\Omega\n",
    "\\end{equation*}\n",
    "\\begin{equation*}\n",
    "\\tau_m = 10ms\n",
    "\\end{equation*}\n",
    "\\begin{equation*}\n",
    "V_{threshold} = -55mV\n",
    "\\end{equation*}\n",
    "\\begin{equation*}\n",
    "V_{reset} = -75mV\n",
    "\\end{equation*}\n",
    "\\begin{equation*}\n",
    "V_{spike} = +20mV\n",
    "\\end{equation*}\n",
    "\n",
    "To get there, let's break this down into parts.\n",
    "\n",
    "**Discussion**\n",
    "With your group, discuss which values listed above are *fixed parameters* and which values are initial values of variables."
   ]
  },
  {
   "cell_type": "code",
   "execution_count": null,
   "metadata": {},
   "outputs": [],
   "source": [
    "# In this cell, assign each fixed parameter to a sensible variable name"
   ]
  },
  {
   "cell_type": "markdown",
   "metadata": {},
   "source": [
    "**Discussion**\n",
    "At the end of your simulation, you will be plotting voltage over time. How many voltage and time values will you have? What data type might allow you to hold these?"
   ]
  },
  {
   "cell_type": "code",
   "execution_count": null,
   "metadata": {},
   "outputs": [],
   "source": [
    "# Based on your group discussion, initialize data structures to hold time and voltage values."
   ]
  },
  {
   "cell_type": "markdown",
   "metadata": {},
   "source": [
    "Great! Now that you have containers for your data, you should set your starting voltage value."
   ]
  },
  {
   "cell_type": "code",
   "execution_count": null,
   "metadata": {},
   "outputs": [],
   "source": []
  },
  {
   "cell_type": "markdown",
   "metadata": {},
   "source": [
    "Now, let's consider again the updating equation:\n",
    "\n",
    "\\begin{equation*}\n",
    "V(t + \\Delta t) = E_m + {R_m}{I_e}(t) + (V(t) - E_m - {R_m}{I_e}(t))e^\\frac{-\\Delta t}{\\tau}\n",
    "\\end{equation*}\n",
    "\n",
    "To simplify, we can recall that the steady-state voltage value for a given $I_e$ is:\n",
    "\n",
    "$$ V_\\infty = E_m + {R_m}{I_e}(t)$$ \n",
    "\n",
    "Therefore, a cleaner way to write the update rule is:\n",
    "\n",
    "$$V(t + \\Delta t) =V_\\infty + (V(t) - E_m - {R_m}{I_e}(t))e^\\frac{-\\Delta t}{\\tau}$$\n",
    "\n",
    "Use the cell below to \"translate\" the $V_\\infty$ equation and the updating equation into Python code. Remember to use the variable names that you defined above and remember that although math uses parentheses for indexing, Python uses square brackets!"
   ]
  },
  {
   "cell_type": "code",
   "execution_count": null,
   "metadata": {},
   "outputs": [],
   "source": []
  },
  {
   "cell_type": "markdown",
   "metadata": {},
   "source": [
    "**Discussion**\n",
    "The updating equation tells us that if we have the current voltage ($V(t)$), we can get the next voltage $V(t + \\Delta t)$. What tools do we have in our Python toolkit that might help calculate each successive value automatically?"
   ]
  },
  {
   "cell_type": "markdown",
   "metadata": {},
   "source": [
    "Great! One more component to go. We need to model the external pulse. Although we are told that it varied over time (during on, and then turning off), let's turn it entirely off for now. In other words, create an array to represent the external current at each time point that is all zeros."
   ]
  },
  {
   "cell_type": "code",
   "execution_count": null,
   "metadata": {},
   "outputs": [],
   "source": []
  },
  {
   "cell_type": "code",
   "execution_count": null,
   "metadata": {},
   "outputs": [],
   "source": [
    "# use this space to set up the main structure of your program"
   ]
  },
  {
   "cell_type": "markdown",
   "metadata": {},
   "source": [
    "Let's look at your plot. Change the code below to show a plot of voltage versus time."
   ]
  },
  {
   "cell_type": "code",
   "execution_count": null,
   "metadata": {},
   "outputs": [],
   "source": [
    "import matplotlib.pyplot as plt\n",
    "\n",
    "plt.figure()\n",
    "plt.plot(XXX, YYY) # fill these in accordingly\n",
    "plt.ylabel('Voltage in mV')\n",
    "plt.xlabel('Time in ms')\n",
    "plt.title('Voltage vs. time')"
   ]
  },
  {
   "cell_type": "markdown",
   "metadata": {},
   "source": [
    "If correctly implemented, you should see a flat line at -70 mV at this point.\n",
    "\n",
    "**Discussion**\n",
    "Why is that? Why does this make sense?"
   ]
  },
  {
   "cell_type": "markdown",
   "metadata": {},
   "source": [
    "Now, change your external stimulation array to be at 1.53 nA for the entire duration of the trial. "
   ]
  },
  {
   "cell_type": "code",
   "execution_count": null,
   "metadata": {},
   "outputs": [],
   "source": [
    "# your code here"
   ]
  },
  {
   "cell_type": "markdown",
   "metadata": {},
   "source": [
    "Consider the new plot of voltage versus time.\n",
    "\n",
    "**Discussion**\n",
    "With your group, consider why the plot looks the way it does. To what voltage does the membrane reach? Why?"
   ]
  },
  {
   "cell_type": "markdown",
   "metadata": {},
   "source": [
    "Now, we are ready to put it all together. Re-initialize your external current vector to contain all zeros. Then, set the points representing times between 100 and 400 ms to 1.52 nA. Run your simulation and create a plot of voltage versus time."
   ]
  },
  {
   "cell_type": "code",
   "execution_count": null,
   "metadata": {},
   "outputs": [],
   "source": [
    "# your code here"
   ]
  },
  {
   "cell_type": "markdown",
   "metadata": {},
   "source": [
    "**Discussion**\n",
    "You have successfully implemented the integrate and fire model, but you are not seeing any spikes. Why is that?"
   ]
  }
 ],
 "metadata": {
  "kernelspec": {
   "display_name": "Python 3",
   "language": "python",
   "name": "python3"
  },
  "language_info": {
   "codemirror_mode": {
    "name": "ipython",
    "version": 3
   },
   "file_extension": ".py",
   "mimetype": "text/x-python",
   "name": "python",
   "nbconvert_exporter": "python",
   "pygments_lexer": "ipython3",
   "version": "3.7.7"
  }
 },
 "nbformat": 4,
 "nbformat_minor": 4
}
