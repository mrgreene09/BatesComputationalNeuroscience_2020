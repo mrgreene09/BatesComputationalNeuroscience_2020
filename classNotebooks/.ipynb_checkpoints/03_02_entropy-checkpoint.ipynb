{
 "cells": [
  {
   "cell_type": "markdown",
   "metadata": {},
   "source": [
    "# Introduction to Information Theory: Entropy\n",
    "\n",
    "\n",
    "As you know from your reading, the more rare an event is, the more surprised we would be if we observed it, and the more *information* the event would have. The Shannon information for an event *x* is:\n",
    "\n",
    "$$log \\frac{1}{p(x)}$$\n",
    "\n",
    "Consider the probabilities of some lifetime events. Compute their information in individual cells.\n",
    "\n",
    "* [Being struck by lightning this year (1/700000)](https://www.nationalgeographic.com/news/2005/6/flash-facts-about-lightning/)\n",
    "* [Being struck by lightning in a lifetime (1/3000)](https://www.nationalgeographic.com/news/2005/6/flash-facts-about-lightning/)\n",
    "* [Getting audited by the IRS (1/200)](https://www.irs.gov/statistics/compliance-presence)\n",
    "* [Living to age 100 (2/25)](https://www.marketwatch.com/story/should-we-plan-on-living-to-100-2017-08-28)\n",
    "* [Having food poisoning this year (1/6)](https://www.foodsafety.gov/food-poisoning)"
   ]
  },
  {
   "cell_type": "code",
   "execution_count": null,
   "metadata": {},
   "outputs": [],
   "source": []
  },
  {
   "cell_type": "markdown",
   "metadata": {},
   "source": [
    "This makes a certain amount of sense. You would be much more surprised to meet someone who had just been struck by lightning than someone who had just recovered from food poisoning, right?\n",
    "\n",
    "In the cell below, write a for loop to compute information (surprisal) for probabilities between 0.0001 and 1 in steps of 0.0001. Plot surprisal as a function of probability. Your graph should look like Figure 2.3a from your reading. **Discussion** consider the surprisal that you calculated above - where do these events fall on your plot?"
   ]
  },
  {
   "cell_type": "code",
   "execution_count": null,
   "metadata": {},
   "outputs": [],
   "source": []
  },
  {
   "cell_type": "markdown",
   "metadata": {},
   "source": [
    "Surprisal is related to a more common metric - that of entropy. You may have heard of entropy in a chemistry or physics class. *This* entropy was inspired by the idea of statistical thermodynamics, but is a fundamentally different entity. Entropy in the information theoretic sense is the average amount of surprise across a probability distribution:\n",
    "\n",
    "$$H(x) = - \\sum p_i log p_i$$\n",
    "\n",
    "Fill in the template below to create a Python function that will compute entropy. Your function should take a probability distribution as input and return the entropy value. For example, [0.5, 0.5] is a probability distribution reflecting a fair coin."
   ]
  },
  {
   "cell_type": "code",
   "execution_count": null,
   "metadata": {},
   "outputs": [],
   "source": [
    "def computeEntropy(): # fill in parentheses with input argument\n",
    "    H = # fill me in\n",
    "    return H"
   ]
  },
  {
   "cell_type": "markdown",
   "metadata": {},
   "source": [
    "Use your function to compute the entropy for an unbiased coin and a biased coin that shows heads 90% of the time. Verify that you get 1 bit and 0.469 bits respectively."
   ]
  },
  {
   "cell_type": "code",
   "execution_count": null,
   "metadata": {},
   "outputs": [],
   "source": []
  },
  {
   "cell_type": "markdown",
   "metadata": {},
   "source": [
    "Let's use your function to recreate the plot in Figure 2.3b. In a for loop, use your function to compute the entropy of coins with bias between 0.1 and 0.9 in steps of 0.1. "
   ]
  },
  {
   "cell_type": "code",
   "execution_count": null,
   "metadata": {},
   "outputs": [],
   "source": []
  },
  {
   "cell_type": "markdown",
   "metadata": {},
   "source": [
    "Nice work today! Please submit your notebook for grading!"
   ]
  }
 ],
 "metadata": {
  "kernelspec": {
   "display_name": "Python 3",
   "language": "python",
   "name": "python3"
  },
  "language_info": {
   "codemirror_mode": {
    "name": "ipython",
    "version": 3
   },
   "file_extension": ".py",
   "mimetype": "text/x-python",
   "name": "python",
   "nbconvert_exporter": "python",
   "pygments_lexer": "ipython3",
   "version": "3.7.7"
  }
 },
 "nbformat": 4,
 "nbformat_minor": 4
}
