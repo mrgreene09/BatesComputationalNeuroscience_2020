{
 "cells": [
  {
   "cell_type": "markdown",
   "metadata": {},
   "source": [
    "# Spike-Triggered Average, Part 1\n",
    "\n",
    "In this exercise, we will create a simple model neuron that functions as a *magnitude detector*. In other words, a neuron that will fire 100-200 ms after our stimulus has crossed some threshold magnitude.\n",
    "\n",
    "The spike-triggered average is defined as the *average stimulus before each spike*.\n",
    "\n",
    "Let's first begin by creating a white noise stimulus. Recall that this is a random stimulus that is drawn from a normal distribution. Create an experiment that is 5 seconds long, and sampled at 1000 Hz. Use [np.random.randn()](https://numpy.org/doc/stable/reference/random/generated/numpy.random.randn.html) to define the stimulus. Plot your stimulus versus time."
   ]
  },
  {
   "cell_type": "code",
   "execution_count": null,
   "metadata": {},
   "outputs": [],
   "source": []
  },
  {
   "cell_type": "markdown",
   "metadata": {},
   "source": [
    "Great! Now, we need to create our model neuron. Although we could do something fancy like use a Hodgkin and Huxley or integrate and fire neuron here, we are going to keep things simple. Here, our model neuron will respond with a 1 (i.e. a spike) each time the stimulus goes above 2, and will respond 0 in all other cases. Because real neurons cannot respond instantly, place your spike 100 ms after the stimulus goes above 2. (Note: you will not be able to do this for times within 100 ms of the end of the experiment)."
   ]
  },
  {
   "cell_type": "code",
   "execution_count": null,
   "metadata": {},
   "outputs": [],
   "source": []
  },
  {
   "cell_type": "markdown",
   "metadata": {},
   "source": [
    "Plot your model neuron's response as a function of time."
   ]
  },
  {
   "cell_type": "code",
   "execution_count": null,
   "metadata": {},
   "outputs": [],
   "source": []
  },
  {
   "cell_type": "markdown",
   "metadata": {},
   "source": [
    "Now that we have both our stimulus and our response, we are ready to start building the spike-triggered average. Here are the steps you should follow:\n",
    "\n",
    "* For each spike that occurs at least 200 ms after the start of the experiment:\n",
    "* Isolate the stimulus from -200 to 0 before the spike (where 0 is the time of the spike). Place this stimulus into an array. \n",
    "* With your nSpikes x 200 ms array, average across the spikes to reveal the average stimulus in the 200 ms before each spike.\n",
    "* Create a time vector that counts from -200 to 0, and plot your spike-triggered average against this time vector."
   ]
  },
  {
   "cell_type": "code",
   "execution_count": null,
   "metadata": {},
   "outputs": [],
   "source": []
  },
  {
   "cell_type": "markdown",
   "metadata": {},
   "source": [
    "This result should be intuitive - we see a peak in the stimulus 100 ms before the spike occurs. However, this is a little bit boring. Let's add some randomness to our magnitude detector. As before, your model neuron will fire if the stimulus goes above 2. However, this time, use **np.random.randint()** to choose a random time 50-150 ms after the stimulus peak to place your spike. Call this model neuron by a different variable name.\n",
    "\n",
    "Compute the spike-triggered average for this new model neuron and plot it as before."
   ]
  },
  {
   "cell_type": "code",
   "execution_count": null,
   "metadata": {},
   "outputs": [],
   "source": []
  }
 ],
 "metadata": {
  "kernelspec": {
   "display_name": "Python 3",
   "language": "python",
   "name": "python3"
  },
  "language_info": {
   "codemirror_mode": {
    "name": "ipython",
    "version": 3
   },
   "file_extension": ".py",
   "mimetype": "text/x-python",
   "name": "python",
   "nbconvert_exporter": "python",
   "pygments_lexer": "ipython3",
   "version": "3.6.10"
  }
 },
 "nbformat": 4,
 "nbformat_minor": 4
}
