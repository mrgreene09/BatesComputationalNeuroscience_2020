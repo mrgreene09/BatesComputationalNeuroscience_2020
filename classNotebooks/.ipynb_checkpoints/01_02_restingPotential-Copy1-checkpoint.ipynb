{
 "cells": [
  {
   "cell_type": "markdown",
   "metadata": {},
   "source": [
    "# Modeling the Resting Potential\n",
    "\n",
    "In this class notebook, you will be exploring both the Nernst equation and the Goldman-Hodgkin-Katz equation for predicting a neuron's resting potential. \n",
    "\n",
    "In the first exercise, we will develop a *function* for computing the Nernst potential for a given ion. To start, let's see an example of a very simple function."
   ]
  },
  {
   "cell_type": "code",
   "execution_count": 1,
   "metadata": {},
   "outputs": [],
   "source": [
    "def addMe(x, y):\n",
    "    return x+y"
   ]
  },
  {
   "cell_type": "markdown",
   "metadata": {},
   "source": [
    "Let's break down what this means:\n",
    "\n",
    "- _def_ (short for \"define\") tells Python 'hey, I'm starting a function here'.\n",
    "- _addMe_ is the name of the function.\n",
    "- _(x,y)_ : the parentheses contain the *inputs* to the function. We can see that it takes two inputs, which are just variables called *x* and *y*.\n",
    "- _return_ tells Python to send us the result of x+y\n",
    "\n",
    "Therefore, we should be able to substitute any two integers for x and y and have the function work. Try it yourself in the cell below!"
   ]
  },
  {
   "cell_type": "code",
   "execution_count": null,
   "metadata": {},
   "outputs": [],
   "source": []
  },
  {
   "cell_type": "markdown",
   "metadata": {},
   "source": [
    "Recall that the Nernst equation is:\n",
    "\n",
    "$$E_{ion} = \\frac{RT}{zF} \\ln \\left( \\frac{[ion]_o}{[ion]_i} \\right)$$"
   ]
  },
  {
   "cell_type": "markdown",
   "metadata": {},
   "source": [
    "Because *R* and *F* are constants, and we can assume biologically-relevant temperatures to stay relatively constant, $\\frac {RT}{F} = 26.5 mV$ at human body temperature. Therefore, the more usable form of the Nernst equation is:\n",
    "\n",
    "$$E_{ion} = \\frac {26.5}{z} \\ln \\left( \\frac{[ion]_o}{[ion]_i} \\right)$$"
   ]
  },
  {
   "cell_type": "markdown",
   "metadata": {},
   "source": [
    "In order to construct your Nernst potential function, you will need to use employ a function to compute a natural log. Both the *math* and *numpy* packages have a function called **log()**. You may choose to use either within your function.\n",
    "\n",
    "Using the function example above as a template, use the cell below to create a Nernst potential function. Your function should take in three parameters (z, outside concentration, and inside concentration) and return the Nernst potential value for that ion."
   ]
  },
  {
   "cell_type": "code",
   "execution_count": null,
   "metadata": {},
   "outputs": [],
   "source": []
  },
  {
   "cell_type": "markdown",
   "metadata": {},
   "source": [
    "Now, let's test our your function! Below is a table of intracellular and extracellular ion concentrations for K+, Na+, and Cl-. All values are in mmol (in practice, the units do not matter as long as they are consistent).\n",
    "\n",
    "| Ion | [out]   | [in]  |\n",
    "|------|------|-------|\n",
    "| Na+  | 145 | 15  |\n",
    "| K+   | 4   | 150 |\n",
    "| Cl-  | 110 | 10  |\n",
    "| Ca++ | 2 | 10^-4 |\n",
    "\n",
    "Use your Nernst function to compute reversal potentials for each of the four ions in the cell below. "
   ]
  },
  {
   "cell_type": "code",
   "execution_count": null,
   "metadata": {},
   "outputs": [],
   "source": []
  },
  {
   "cell_type": "markdown",
   "metadata": {},
   "source": [
    "Nice work! You should see from your results that the resting potential of a neuron (-65 - -70 mV) is much closer to the reversal potential for K+ than the reveral potential of Na+. This is where the Goldman Hodgkin Katz (GHK) equation comes in. As you'll recall from the video, the GHK equation is like a weighted average of reversal potentials, where we are weighting by the relative *permeabilities* of each of the ions. The GHK equation is:\n",
    "\n",
    "$$V_{rest} = \\frac{RT}{F} \\ln \\left( \\frac{p_{Na+}[Na+]_o + p_{K+}[K+]_o + p_{Cl-}[Cl-]_i}{p_{Na+}[Na+]_i + p_{K+}[K+]_i + p_{Cl-}[Cl-]_o} \\right)$$\n",
    "\n",
    "Here are the relative permeabilities of the three ions at rest:\n",
    "$$p_{K+} = 1$$\n",
    "$$p_{Na+} = 0.05$$\n",
    "$$p_{Cl-} = 0.45$$\n",
    "\n",
    "Use the cell below to create a function that computes the resting potential of the cell using the GHK equation. Due to the large number of input parameters, you may \"hard code\" the permeability values into your function. After writing your function, test it with the values given."
   ]
  },
  {
   "cell_type": "code",
   "execution_count": null,
   "metadata": {},
   "outputs": [],
   "source": []
  },
  {
   "cell_type": "markdown",
   "metadata": {},
   "source": [
    "Some versions of the GHK equation omit Cl- entirely, arguing that it makes very little difference to the overall resting potential. In the cell below, write a new version of your GHK function that *only* uses Na+ and K+. In a new cell below your code, comment on whether or not you agree with this approximation."
   ]
  },
  {
   "cell_type": "code",
   "execution_count": null,
   "metadata": {},
   "outputs": [],
   "source": []
  }
 ],
 "metadata": {
  "kernelspec": {
   "display_name": "Python 3",
   "language": "python",
   "name": "python3"
  },
  "language_info": {
   "codemirror_mode": {
    "name": "ipython",
    "version": 3
   },
   "file_extension": ".py",
   "mimetype": "text/x-python",
   "name": "python",
   "nbconvert_exporter": "python",
   "pygments_lexer": "ipython3",
   "version": "3.7.7"
  }
 },
 "nbformat": 4,
 "nbformat_minor": 4
}
