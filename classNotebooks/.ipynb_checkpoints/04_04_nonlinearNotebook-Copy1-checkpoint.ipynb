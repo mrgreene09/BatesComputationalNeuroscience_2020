{
 "cells": [
  {
   "cell_type": "markdown",
   "metadata": {},
   "source": [
    "# Modeling Neural Nonlinearities\n",
    "\n",
    "The goal of today's notebook is to give you practice modifying predicted firing rates according to two popular models of nonlinearity: the rectified linear, and the sigmoid. Both types of nonlinearity aim to make more accurate model neurons by allowing for threshold values (both), and saturation (sigmoid).\n",
    "\n",
    "Let's start out by creating a simulated predicted firing rate. In real life, we would do this by convolving the spike-triggered average (STA) with the stimulus, but here we will create a random function using **np.random.randn()**. This function outputs numbers drawn from a standard normal distribution (mean of 0 and standard deviation of 1).\n",
    "\n",
    "Create a vector of 1000 such numbers and call it predictedFiringRate."
   ]
  },
  {
   "cell_type": "code",
   "execution_count": null,
   "metadata": {},
   "outputs": [],
   "source": []
  },
  {
   "cell_type": "markdown",
   "metadata": {},
   "source": [
    "The rectified linear nonlinearity is defined by predicting a firing rate of zero below a threshold, and a value that is proportional to the stimulus above the threshold. Using a threshold of zero, create a variable called newFiringRate that has been passed through the rectified linear function."
   ]
  },
  {
   "cell_type": "code",
   "execution_count": null,
   "metadata": {},
   "outputs": [],
   "source": []
  },
  {
   "cell_type": "markdown",
   "metadata": {},
   "source": [
    "Fill in the code below to plot your original and modified predicted firing rates."
   ]
  },
  {
   "cell_type": "code",
   "execution_count": null,
   "metadata": {},
   "outputs": [],
   "source": [
    "import matplotlib.pyplot as plt\n",
    "\n",
    "plt.figure()\n",
    "plt.subplot(2,1,1)\n",
    "plt.plot(XXX, YYY) # plot predictedFiringRate\n",
    "plt.subplot(2,1,2)\n",
    "plt.plot(XXX, YYY) # plot modified predictedFiringRate"
   ]
  },
  {
   "cell_type": "markdown",
   "metadata": {},
   "source": [
    "Now, let's consider the sigmoid function. Recall that it is given by the following equation:\n",
    "\n",
    "$$ \\frac{1}{1+e^{-x}}$$\n",
    "\n",
    "Let's first see what this looks like. Create an x variable that goes from -3 to 3 in steps of 0.01, and fill in the code below to create the sigmoid value and plot it."
   ]
  },
  {
   "cell_type": "code",
   "execution_count": null,
   "metadata": {},
   "outputs": [],
   "source": [
    "# define the x axis\n",
    "x = # fill me in\n",
    "\n",
    "sigX = # fill in equation\n",
    "\n",
    "# plot the results\n",
    "plt.figure()\n",
    "plt.plot(x, sigX)"
   ]
  },
  {
   "cell_type": "markdown",
   "metadata": {},
   "source": [
    "Use the sigmoid function to modify your predicted firing rate. As before, fill in the code snippet to plot the original and predicted firing rates."
   ]
  },
  {
   "cell_type": "code",
   "execution_count": null,
   "metadata": {},
   "outputs": [],
   "source": [
    "# compute sigmoid modification here\n",
    "\n",
    "plt.figure()\n",
    "plt.subplot(2,1,1)\n",
    "plt.plot(XXX, YYY) # plot predictedFiringRate\n",
    "plt.subplot(2,1,2)\n",
    "plt.plot(XXX, YYY) # plot modified predictedFiringRate"
   ]
  }
 ],
 "metadata": {
  "kernelspec": {
   "display_name": "Python 3",
   "language": "python",
   "name": "python3"
  },
  "language_info": {
   "codemirror_mode": {
    "name": "ipython",
    "version": 3
   },
   "file_extension": ".py",
   "mimetype": "text/x-python",
   "name": "python",
   "nbconvert_exporter": "python",
   "pygments_lexer": "ipython3",
   "version": "3.7.7"
  }
 },
 "nbformat": 4,
 "nbformat_minor": 4
}
