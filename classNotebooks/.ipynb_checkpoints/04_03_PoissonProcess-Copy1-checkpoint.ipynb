{
 "cells": [
  {
   "cell_type": "markdown",
   "metadata": {},
   "source": [
    "# Poisson Processes\n",
    "\n",
    "The goal of today's notebook is to take you through the process of implementing both homogeneous and inhomogeneuous Poisson processes to create model neurons that produce discrete spikes.\n",
    "\n",
    "As a warm-up exercise, let's imagine creating a one-second simulation, recording at 1000 Hz. Let's say that you want to model a neuron that spikes at 20 Hz. Use our previous method for creating a homogeneous Poisson process to create such a neuron here. Calculate its actual spike count rate after your simulation."
   ]
  },
  {
   "cell_type": "code",
   "execution_count": null,
   "metadata": {},
   "outputs": [],
   "source": []
  },
  {
   "cell_type": "markdown",
   "metadata": {},
   "source": [
    "Excellent. Now, let's create a changing stimulus that will lead to a changing firing rate. Create a stimulus vector that is zero for the first 100 ms, and then increases by 0.1 units every 100 ms thereafter."
   ]
  },
  {
   "cell_type": "code",
   "execution_count": null,
   "metadata": {},
   "outputs": [],
   "source": []
  },
  {
   "cell_type": "markdown",
   "metadata": {},
   "source": [
    "Create a plot of your stimulus."
   ]
  },
  {
   "cell_type": "code",
   "execution_count": null,
   "metadata": {},
   "outputs": [],
   "source": []
  },
  {
   "cell_type": "markdown",
   "metadata": {},
   "source": [
    "Let's assume that the maximum firing rate of our model neuron is 100 Hz. Using an inhomogeneous Poisson process, create a simulated spike train during this stimulus. The overall estimated firing rate will be the maximum rate (100 Hz) multiplied by the present stimulus level.\n",
    "\n",
    "Fill in the code below to plot your stimulus and your spike train."
   ]
  },
  {
   "cell_type": "code",
   "execution_count": null,
   "metadata": {},
   "outputs": [],
   "source": [
    "# implement inhomogeneous Poisson here\n",
    "\n",
    "# plot the results\n",
    "plt.figure()\n",
    "plt.subplot(2,1,1)\n",
    "plt.plot(XXX, YYY) # plot the stimulus\n",
    "plt.subplot(2,1,2)\n",
    "plt.plot(XXX, YYY) # plot the similated spike train"
   ]
  },
  {
   "cell_type": "markdown",
   "metadata": {},
   "source": [
    "Great work today! Please upload this file to Lyceum for grading!"
   ]
  }
 ],
 "metadata": {
  "kernelspec": {
   "display_name": "Python 3",
   "language": "python",
   "name": "python3"
  },
  "language_info": {
   "codemirror_mode": {
    "name": "ipython",
    "version": 3
   },
   "file_extension": ".py",
   "mimetype": "text/x-python",
   "name": "python",
   "nbconvert_exporter": "python",
   "pygments_lexer": "ipython3",
   "version": "3.7.7"
  }
 },
 "nbformat": 4,
 "nbformat_minor": 4
}
